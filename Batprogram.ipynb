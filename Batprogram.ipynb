{
 "cells": [
  {
   "cell_type": "code",
   "execution_count": 1,
   "metadata": {},
   "outputs": [],
   "source": [
    "from cmath import sin\n",
    "import numpy as np\n",
    "import math\n",
    "import matplotlib.pyplot as plt\n",
    "from scipy import signal\n",
    "from Audio_data import Audio_data\n",
    "from Matrix_array import Matrix_array\n",
    "from Audio_source import Audio_source\n",
    "from Color_map import Color_map\n",
    "\n",
    "# GLOBAL VARIABLES\n",
    "c = 340                     # propagation speed of sound"
   ]
  },
  {
   "cell_type": "code",
   "execution_count": 2,
   "metadata": {},
   "outputs": [],
   "source": [
    "def antenna_setup():\n",
    "    r_a1 = [-0.08,0,0]\n",
    "    r_a1 = [0.08,0,0]\n",
    "    uni_distance = math.pow(10,-3) * 20\n",
    "    row_elements = 8\n",
    "    column_elements = 8\n",
    "\n",
    "    array_matrix_1 = Matrix_array(r_a1,uni_distance,row_elements,column_elements)\n",
    "    array_matrix_2 = Matrix_array(r_a2,uni_distance,row_elements,column_elements)\n",
    "    array_matrices = np.array([array_matrix_1, array_matrix_2], dtype=object)\n",
    "\n",
    "    sub_arrays = len(array_matrices)\n",
    "\n",
    "    for array in range(sub_arrays):\n",
    "        plt.title('Array setup')\n",
    "        plt.scatter(array_matrices[array].get_r_prime()[0,:], array_matrices[array].get_r_prime()[1,:])\n",
    "        \n",
    "    return array_matrices"
   ]
  },
  {
   "cell_type": "code",
   "execution_count": 3,
   "metadata": {},
   "outputs": [],
   "source": [
    "def generate_array_signals(matrix_array, sources, t):\n",
    "    r_prime = matrix_array.get_r_prime()\n",
    "    Audio_signal = np.zeros((len(t), len(r_prime[0,:])))\n",
    "\n",
    "    for sample in range(len(t)):\n",
    "        if (sample+1 in np.linspace(0,len(t),11)) or (sample == 0): # print stuff so user know how many samples that have been generated\n",
    "            print(sample+1)                                         # print stuff so user know how many samples that have been generated\n",
    "        for mic in range(len(r_prime[0,:])):\n",
    "            x_i = r_prime[0,mic]\n",
    "            y_i = r_prime[1,mic]\n",
    "            temp_signal_sample = 0\n",
    "            for source in range(len(sources)):\n",
    "                if (sources[source].get_t_start() < t[sample]) and (t[sample] < sources[source].get_t_end()):\n",
    "                    frequencies_ps = sources[source].get_frequency()\n",
    "                    theta_source = sources[source].get_theta()\n",
    "                    phi_source = sources[source].get_phi()\n",
    "                    rho_soruce = sources[source].get_rho()\n",
    "                    for freq_ind in range(len(frequencies_ps)):\n",
    "                        k = 2*math.pi*frequencies_ps[freq_ind]/c\n",
    "                        r_1 = np.array([x_i,y_i,0])\n",
    "                        r_2 = rho_soruce * r_vec(theta_source,phi_source)\n",
    "                        norm_coeff = np.linalg.norm(r_2-r_1)\n",
    "                        phase_offset = -k*norm_coeff\n",
    "                        element_amplitude = 1/norm_coeff\n",
    "                        temp_signal_sample += element_amplitude * math.sin(2*math.pi* frequencies_ps[freq_ind] * t[sample] + phase_offset)\n",
    "            Audio_signal[sample,mic] = temp_signal_sample\n",
    "    return Audio_signal"
   ]
  },
  {
   "cell_type": "code",
   "execution_count": 4,
   "metadata": {},
   "outputs": [],
   "source": [
    "def r_vec(theta,phi):\n",
    "    r = np.array([(math.sin(theta)*math.cos(phi)), math.sin(theta)*math.sin(phi), math.cos(theta)])\n",
    "    return r"
   ]
  },
  {
   "cell_type": "code",
   "execution_count": 5,
   "metadata": {},
   "outputs": [],
   "source": [
    "def filtering(array_audio_signals, sub_arrays, frequency_bands, f_sampling, elements):\n",
    "    #print('sub_arrays: '+str(sub_arrays))\n",
    "    audio_filtered_complete = np.zeros((sub_arrays, len(frequency_bands)), dtype=object)\n",
    "    for array in range(sub_arrays):\n",
    "        Audio_signal = array_audio_signals[array].get_audio_signals()\n",
    "\n",
    "        for freq_ind in range(len(frequency_bands)):\n",
    "            # filter design for each band\n",
    "            filter_order = 200\n",
    "            nu_0 = 2*frequency_bands[freq_ind]/f_sampling   # normalized frequency\n",
    "            scale_factor = 10000                            # scale factor, making filter bandwidth more narrow\n",
    "            cut_off = [nu_0 - nu_0/scale_factor, nu_0 + nu_0/scale_factor]\n",
    "\n",
    "            b = signal.firwin(filter_order, cut_off, window=\"hamming\", pass_zero=False) # filter coefficients\n",
    "            audio_temp = np.zeros((len(Audio_signal[:,0]),elements))\n",
    "            for mic_ind in range(elements):\n",
    "                # apply filter on every signal recorded from the elements\n",
    "                audio_temp[:,mic_ind] = signal.lfilter(b, 1.0, Audio_signal[:,mic_ind])\n",
    "\n",
    "            audio_filtered_complete[array,freq_ind] = Audio_data(audio_temp)\n",
    "            \n",
    "            # plot all filters\n",
    "            plt.figure(2)\n",
    "            w, h = signal.freqz(b, worN=8000)\n",
    "            H = 20*np.log10(abs(h))\n",
    "            plt.plot((w/math.pi)*f_sampling/2, 20*np.log10(abs(h)), linewidth=2)\n",
    "            plt.xlabel('Frequency (Hz)')\n",
    "            plt.ylabel('Gain (dB)')\n",
    "            plt.title('Frequency Response of all filters')\n",
    "            plt.ylim(-5, 0.5)\n",
    "            plt.xlim(70, f_sampling/2)\n",
    "            plt.grid(True)\n",
    "\n",
    "        #print(audio_filtered_complete[array,freq_ind].get_audio_signals())\n",
    "        #print(audio_filtered_complete[array,1].get_audio_signals())\n",
    "    #print(audio_filtered_complete.shape)\n",
    "    #print(array)\n",
    "    #print(audio_filtered_complete[array,1].get_audio_signals())\n",
    "    #print(audio_filtered_complete[1,1].get_audio_signals())\n",
    "    print('Filtering of signals completed.')\n",
    "    return audio_filtered_complete"
   ]
  },
  {
   "cell_type": "code",
   "execution_count": 6,
   "metadata": {},
   "outputs": [],
   "source": [
    "def scanning(y_listen, x_listen, r_scan, frequency_bands, audio_filtered_complete, array_matrices, f_sampling, sub_arrays):\n",
    "    # Start scanning\n",
    "    color_maps_complete = np.zeros(len(frequency_bands), dtype=object)\n",
    "    for freq_ind in range(len(frequency_bands)):\n",
    "        color_map_new = np.zeros((len(y_listen),len(x_listen)))\n",
    "        color_maps_complete[freq_ind] = Color_map(color_map_new)\n",
    "    for x_ind in range(len(x_listen)):\n",
    "        print('\\n x_ind: '+str(x_ind+1))                # print stuff for user\n",
    "        x = x_listen[x_ind]                             # current x-coordinate\n",
    "        print('\\t y_ind:', end=' ')                     # print stuff for user\n",
    "        for y_ind in range(len(y_listen)):\n",
    "            print(str(y_ind+1), end=' ')                # print stuff for user\n",
    "            y = y_listen[y_ind]                         # current x-coordinate\n",
    "            z_0 = math.sqrt(r_scan**2 - x**2 - y**2)\n",
    "            theta = math.acos(z_0/r_scan)               # get theta from our x,y coordinates\n",
    "            phi = math.atan2(y,x)                       # get phi from our x,y coordinates\n",
    "            for freq_ind in range(len(frequency_bands)):\n",
    "                # apply beamforming algo. in every frequency band\n",
    "                frequency = frequency_bands[freq_ind]\n",
    "                mic_data = 0                            #create empty mic data\n",
    "\n",
    "                for array in range(sub_arrays):\n",
    "                    # Use the filtered audio signals\n",
    "                    audio_temp_signals = audio_filtered_complete[array, freq_ind].get_audio_signals()\n",
    "                    \n",
    "                    # Adaptive configuration of the antanna array\n",
    "                    adaptive_weight = adaptive_array_config(array_matrices[array], frequency)\n",
    "                    \n",
    "                    # Perform the beamforming algoritm (phase-shift input signal according to listening direction)\n",
    "                    mic_data = mic_data + beam_forming_algorithm(array_matrices[array],[theta,phi],adaptive_weight, audio_temp_signals, frequency, f_sampling)\n",
    "                \n",
    "                # obtain relative power in the listening direction\n",
    "                color = sum(abs(mic_data)**2)\n",
    "\n",
    "                # relative power inte the direction [theta, phi] saved in matrix\n",
    "                color_maps_complete[freq_ind].set_color(y_ind, x_ind, color)\n",
    "    return color_maps_complete"
   ]
  },
  {
   "cell_type": "code",
   "execution_count": 7,
   "metadata": {},
   "outputs": [],
   "source": [
    "def adaptive_array_config(matrix_array, frequency):\n",
    "    # Adaptive configuration of the antanna array\n",
    "    # Selects only necessary antenna-elements to maintain small beamwidth\n",
    "\n",
    "    row_elements = matrix_array.get_row_elements()\n",
    "    column_elements = matrix_array.get_row_elements()\n",
    "    uni_distance = matrix_array.get_uni_distance()\n",
    "    \n",
    "    wavelength = c/frequency                    # wavelength of signal\n",
    "    wavelength_rel = uni_distance/wavelength    # relative wavelenght to distance between microphone elements\n",
    "\n",
    "    if wavelength_rel>0.1581:\n",
    "        # mode 1\n",
    "        weight = np.ones((1, row_elements*column_elements))\n",
    "        return weight\n",
    "    elif (wavelength_rel <= 0.156) and (wavelength_rel > 0.0986):\n",
    "        mode = 3\n",
    "    elif (wavelength_rel <= 0.0986) and (wavelength_rel > 0.085):\n",
    "        mode = 5\n",
    "    elif (wavelength_rel <= 0.085) and (wavelength_rel > 0.07):\n",
    "        mode = 6\n",
    "    else:\n",
    "        mode = 7\n",
    "\n",
    "    weight = np.zeros((1,row_elements*column_elements))\n",
    "    row_lim = math.ceil(row_elements/mode)\n",
    "    column_lim = math.ceil(column_elements/mode)\n",
    "\n",
    "    for i in range(row_lim):\n",
    "        for j in range(column_lim):\n",
    "            element_index = (mode*i*row_elements + mode*j) # this calculation could be wrong thanks to matlab and python index :))\n",
    "            weight[0,element_index] = 1\n",
    "    return weight"
   ]
  },
  {
   "cell_type": "code",
   "execution_count": 8,
   "metadata": {},
   "outputs": [],
   "source": [
    "def beam_forming_algorithm(matrix_array,direction,weight,audio_signal,frequency,sampling_frequency):\n",
    "    #\n",
    "    #   IMPORTANT! The beamforming algorithm assumes the array matrices lies in the xy-plane\n",
    "    #\n",
    "    #   The beamforming algorithm calculates the necessary phase to introduce to the narrowband signal\n",
    "    #   in order to have the maximum directivity in the direction r(theta,phi)\n",
    "    #\n",
    "    #   This phase-shift is introduced by a phase shifting function, which acts as a filter in time domain.\n",
    "    #\n",
    "    #   To improve performance, all elements of the array matrices are not in use. The user decides which \n",
    "    #   element to use by sending in a weight vectir as a argument. The output signal is then normalized after\n",
    "    #   how many elements where in use.\n",
    "\n",
    "    #   Get the amount of samples of the audio tracks \n",
    "    samples = len(audio_signal[:,0])\n",
    "\n",
    "    #   The listening-direction vector contains two scalar values, theta and phi\n",
    "    theta = direction[0]\n",
    "    phi = direction[1]\n",
    "\n",
    "    #   The r_prime vector of the matrix array to know the location of every element, as well as how many \n",
    "    #   elements exists.\n",
    "    r_prime = matrix_array.get_r_prime()\n",
    "    elements = matrix_array.get_elements()\n",
    "\n",
    "    #   The narrowband wavevnumber\n",
    "    k = 2*math.pi*frequency/c\n",
    "\n",
    "    #   The normalized frequency\n",
    "    ny = frequency/sampling_frequency\n",
    "\n",
    "    #   Initialize output vector\n",
    "    mic_data = np.zeros((samples,1))\n",
    "\n",
    "    #   The compensation factors to obtain uniform phase in the direction r_hat(theta,phi)\n",
    "    x_factor = math.sin(theta)*math.cos(phi)\n",
    "    y_factor = math.sin(theta)*math.sin(phi)\n",
    "\n",
    "    for mic_ind in range(elements):\n",
    "        #   calculate the narrowband phase-shift\n",
    "        phase_shift_value = -k*(r_prime[0,mic_ind] * x_factor + r_prime[1,mic_ind]*y_factor)\n",
    "\n",
    "        #   Sum the individually shifted data from the atnenna elements as well as weight them with\n",
    "        #   appropriate weight.\n",
    "        mic_data = mic_data + weight[0,mic_ind] * phase_shift(audio_signal[:,mic_ind],ny,phase_shift_value)\n",
    "\n",
    "    norm_coeff = 1/sum(weight[0])\n",
    "    mic_data = mic_data * norm_coeff\n",
    "\n",
    "    return mic_data"
   ]
  },
  {
   "cell_type": "code",
   "execution_count": 9,
   "metadata": {},
   "outputs": [],
   "source": [
    "def phase_shift(x,ny,phase):\n",
    "    #   Input signal x\n",
    "    #\n",
    "    #   Output signal y\n",
    "    #\n",
    "    #   if x = cos(n*2*pi*ny), then y = cos(n*2*pi*ny + phase)\n",
    "    #\n",
    "    x_length = len(x)\n",
    "    y = np.zeros((x_length,1))\n",
    "\n",
    "    for i in range(x_length-1):\n",
    "        y[i] = math.cos(phase) * x[i] + math.sin(phase)/(2*math.pi*ny)*(x[i+1]/2 - x[i-1]/2)\n",
    "    \n",
    "    return y"
   ]
  },
  {
   "cell_type": "code",
   "execution_count": 10,
   "metadata": {},
   "outputs": [],
   "source": [
    "def extents(f):\n",
    "    # function to show images with correct grid values (with plt.imshow()), corresponding to our scanning window\n",
    "    delta = f[1]-f[0]\n",
    "    return [f[0] - delta/2, f[-1] + delta/2]"
   ]
  },
  {
   "cell_type": "code",
   "execution_count": 11,
   "metadata": {},
   "outputs": [],
   "source": [
    "def validation_check(y_listen, x_listen, sources, r_scan):\n",
    "    # Validation check\n",
    "    xy_val_check = np.zeros((len(y_listen),len(x_listen)))\n",
    "\n",
    "    for x_ind in range(len(x_listen)):\n",
    "        x = x_listen[x_ind]\n",
    "        for y_ind in range(len(y_listen)):\n",
    "            y = y_listen[y_ind]\n",
    "            temp_val = 0\n",
    "            for source_ind in range(len(sources)):\n",
    "                x_s = r_scan * math.sin(sources[source_ind].get_theta()) * math.cos(sources[source_ind].get_phi())\n",
    "                y_s = r_scan * math.sin(sources[source_ind].get_theta()) * math.sin(sources[source_ind].get_phi())\n",
    "                temp_val += 1/math.sqrt(((x_s -x)**2 + (y_s - y)**2))\n",
    "            xy_val_check[y_ind, x_ind] = temp_val\n",
    "\n",
    "    plt.figure(3)\n",
    "    plt.imshow(xy_val_check, extent= extents(x_listen) + extents(y_listen))\n",
    "    plt.title('Actual location of sources')"
   ]
  },
  {
   "cell_type": "code",
   "execution_count": null,
   "metadata": {},
   "outputs": [],
   "source": [
    "def show_beamforming_results(y_listen, x_listen, color_maps):\n",
    "    color_map_intensity = np.zeros((len(y_listen), len(x_listen)))\n",
    "    for freq_ind in range(len(frequency_bands)):\n",
    "        color_map_intensity += color_maps[freq_ind].get_color_data_matrix()\n",
    "    plt.figure(4)\n",
    "    plt.imshow(color_map_intensity, extent= extents(x_listen) + extents(y_listen))\n",
    "    plt.title('Beamforming results')\n",
    "    return color_map_intensity"
   ]
  },
  {
   "cell_type": "code",
   "execution_count": 12,
   "metadata": {},
   "outputs": [],
   "source": [
    "def maximum_intensity(color_maps_complete, frequency_bands):\n",
    "    # Get maximum intensity of a signals, at any frequency\n",
    "    max_intensity = 0\n",
    "    for freq_ind in range(len(frequency_bands)):\n",
    "        intensity = np.max(np.max(color_maps_complete[freq_ind].get_color_data_matrix()))\n",
    "        if intensity > max_intensity:\n",
    "            max_intensity = intensity\n",
    "    return max_intensity"
   ]
  },
  {
   "cell_type": "code",
   "execution_count": 13,
   "metadata": {},
   "outputs": [],
   "source": [
    "# Initialization\n",
    "f_sampling = 1000           # sampling frequency in Hz\n",
    "t_start = 0                 # start time of simulation \n",
    "t_end = 1                  # end time of simulation\n",
    "t_total = t_end - t_start   # total simulation time\n",
    "t = np.linspace(t_start, t_end, t_total*f_sampling) # time vector\n",
    "\n",
    "# Point audio source\n",
    "away_distance = 700         # distance between the array and sources"
   ]
  },
  {
   "cell_type": "code",
   "execution_count": 14,
   "metadata": {},
   "outputs": [
    {
     "data": {
      "image/png": "[encoded data removed]",
      "text/plain": [
       "<Figure size 432x288 with 1 Axes>"
      ]
     },
     "metadata": {
      "needs_background": "light"
     },
     "output_type": "display_data"
    }
   ],
   "source": [
    "# set up arrays\n",
    "array_matrices = antenna_setup()\n",
    "sub_arrays = len(array_matrices)\n"
   ]
  },
  {
   "cell_type": "code",
   "execution_count": 15,
   "metadata": {},
   "outputs": [
    {
     "name": "stdout",
     "output_type": "stream",
     "text": [
      "0.3490658503988659\n",
      "2.443460952792061\n",
      "[300.         305.26315789 310.52631579 315.78947368 321.05263158\n",
      " 326.31578947 331.57894737 336.84210526 342.10526316 347.36842105\n",
      " 352.63157895 357.89473684 363.15789474 368.42105263 373.68421053\n",
      " 378.94736842 384.21052632 389.47368421 394.73684211 400.        ]\n",
      "0\n",
      "1.5\n",
      "700\n"
     ]
    }
   ],
   "source": [
    "# Create and place out sources\n",
    "sources = np.array([Audio_source(300, 400, 20, 20, 140, away_distance, 0, 1.5)])\n",
    "\n",
    "print(sources[0].get_theta())\n",
    "print(sources[0].get_phi())\n",
    "print(sources[0].get_frequency())\n",
    "print(sources[0].get_t_start())\n",
    "print(sources[0].get_t_end())\n",
    "print(sources[0].get_rho())"
   ]
  },
  {
   "cell_type": "code",
   "execution_count": 16,
   "metadata": {},
   "outputs": [
    {
     "name": "stdout",
     "output_type": "stream",
     "text": [
      "Number of samples generated (of 1000):\n",
      "1\n",
      "100\n",
      "200\n",
      "300\n",
      "400\n",
      "500\n",
      "600\n",
      "700\n",
      "800\n",
      "900\n",
      "1000\n",
      "Audio signal for array 1 generated\n",
      "1\n",
      "100\n",
      "200\n",
      "300\n",
      "400\n",
      "500\n",
      "600\n",
      "700\n",
      "800\n",
      "900\n",
      "1000\n",
      "Audio signal for array 2 generated\n"
     ]
    }
   ],
   "source": [
    "# GENERATE AUDIO SIGNALS\n",
    "array_audio_signals = np.zeros((sub_arrays), dtype=object)\n",
    "print('Number of samples generated (of '+str(f_sampling*t_total)+'):')\n",
    "for array in range(sub_arrays):\n",
    "    # generate the audio signals on each array-element for each sub-array\n",
    "    temp_signal = generate_array_signals(array_matrices[array],sources,t)\n",
    "    array_audio_signals[array] = Audio_data(temp_signal)\n",
    "    print('Audio signal for array '+str(array+1)+' generated')\n"
   ]
  },
  {
   "cell_type": "code",
   "execution_count": 17,
   "metadata": {},
   "outputs": [],
   "source": [
    "# BEAMFORMING values\n",
    "x_res = 10                          # resolution in x\n",
    "y_res = 10                          # resolution in y\n",
    "x_listen = np.linspace(-1,1,x_res)  # scanning window, x coordinates\n",
    "y_listen = np.linspace(-1,1,y_res)  # scanning window, y coordinates\n",
    "r_scan = math.sqrt(2)                          # radius of our scanning window, r_scan² = x²+y²+z²\n"
   ]
  },
  {
   "cell_type": "code",
   "execution_count": 18,
   "metadata": {},
   "outputs": [],
   "source": [
    "# Filtering values\n",
    "f_bands_N = 45                      # number of frequency bands\n",
    "bandwidth = [100, f_sampling/2-f_sampling/100]             # bandwidth of incoming audio signal\n",
    "frequency_bands = np.linspace(bandwidth[0],bandwidth[1],f_bands_N) # vector holding center frequencies of all frequency bands\n",
    "samples = len(t)\n",
    "#filter_coefficients = np.zeros((f_bands_N, filter_order+1)) # might only be used for plots"
   ]
  },
  {
   "cell_type": "code",
   "execution_count": 19,
   "metadata": {},
   "outputs": [
    {
     "name": "stdout",
     "output_type": "stream",
     "text": [
      "array: 0, freq_ind: 0\n",
      "array: 0, freq_ind: 1\n",
      "array: 0, freq_ind: 2\n",
      "array: 0, freq_ind: 3\n",
      "array: 0, freq_ind: 4\n",
      "array: 0, freq_ind: 5\n",
      "array: 0, freq_ind: 6\n",
      "array: 0, freq_ind: 7\n",
      "array: 0, freq_ind: 8\n",
      "array: 0, freq_ind: 9\n",
      "array: 0, freq_ind: 10\n",
      "array: 0, freq_ind: 11\n",
      "array: 0, freq_ind: 12\n",
      "array: 0, freq_ind: 13\n",
      "array: 0, freq_ind: 14\n",
      "array: 0, freq_ind: 15\n",
      "array: 0, freq_ind: 16\n",
      "array: 0, freq_ind: 17\n",
      "array: 0, freq_ind: 18\n",
      "array: 0, freq_ind: 19\n",
      "array: 0, freq_ind: 20\n",
      "array: 0, freq_ind: 21\n",
      "array: 0, freq_ind: 22\n",
      "array: 0, freq_ind: 23\n",
      "array: 0, freq_ind: 24\n",
      "array: 0, freq_ind: 25\n",
      "array: 0, freq_ind: 26\n",
      "array: 0, freq_ind: 27\n",
      "array: 0, freq_ind: 28\n",
      "array: 0, freq_ind: 29\n",
      "array: 0, freq_ind: 30\n",
      "array: 0, freq_ind: 31\n",
      "array: 0, freq_ind: 32\n",
      "array: 0, freq_ind: 33\n",
      "array: 0, freq_ind: 34\n",
      "array: 0, freq_ind: 35\n",
      "array: 0, freq_ind: 36\n",
      "array: 0, freq_ind: 37\n",
      "array: 0, freq_ind: 38\n",
      "array: 0, freq_ind: 39\n",
      "array: 0, freq_ind: 40\n",
      "array: 0, freq_ind: 41\n",
      "array: 0, freq_ind: 42\n",
      "array: 0, freq_ind: 43\n",
      "array: 0, freq_ind: 44\n",
      "array: 1, freq_ind: 0\n",
      "array: 1, freq_ind: 1\n",
      "array: 1, freq_ind: 2\n",
      "array: 1, freq_ind: 3\n",
      "array: 1, freq_ind: 4\n",
      "array: 1, freq_ind: 5\n",
      "array: 1, freq_ind: 6\n",
      "array: 1, freq_ind: 7\n",
      "array: 1, freq_ind: 8\n",
      "array: 1, freq_ind: 9\n",
      "array: 1, freq_ind: 10\n",
      "array: 1, freq_ind: 11\n",
      "array: 1, freq_ind: 12\n",
      "array: 1, freq_ind: 13\n",
      "array: 1, freq_ind: 14\n",
      "array: 1, freq_ind: 15\n",
      "array: 1, freq_ind: 16\n",
      "array: 1, freq_ind: 17\n",
      "array: 1, freq_ind: 18\n",
      "array: 1, freq_ind: 19\n",
      "array: 1, freq_ind: 20\n",
      "array: 1, freq_ind: 21\n",
      "array: 1, freq_ind: 22\n",
      "array: 1, freq_ind: 23\n",
      "array: 1, freq_ind: 24\n",
      "array: 1, freq_ind: 25\n",
      "array: 1, freq_ind: 26\n",
      "array: 1, freq_ind: 27\n",
      "array: 1, freq_ind: 28\n",
      "array: 1, freq_ind: 29\n",
      "array: 1, freq_ind: 30\n",
      "array: 1, freq_ind: 31\n",
      "array: 1, freq_ind: 32\n",
      "array: 1, freq_ind: 33\n",
      "array: 1, freq_ind: 34\n",
      "array: 1, freq_ind: 35\n",
      "array: 1, freq_ind: 36\n",
      "array: 1, freq_ind: 37\n",
      "array: 1, freq_ind: 38\n",
      "array: 1, freq_ind: 39\n",
      "array: 1, freq_ind: 40\n",
      "array: 1, freq_ind: 41\n",
      "array: 1, freq_ind: 42\n",
      "array: 1, freq_ind: 43\n",
      "array: 1, freq_ind: 44\n",
      "Filtering of signals completed.\n",
      "[[ 0.00000000e+00  0.00000000e+00  0.00000000e+00 ...  0.00000000e+00\n",
      "   0.00000000e+00  0.00000000e+00]\n",
      " [-3.71425148e-06 -3.72185989e-06 -3.72638764e-06 ... -3.66664237e-06\n",
      "  -3.68442143e-06 -3.69918084e-06]\n",
      " [-1.43884472e-07 -5.82074099e-08  2.74741401e-08 ... -4.29384328e-07\n",
      "  -3.44312932e-07 -2.59008108e-07]\n",
      " ...\n",
      " [-4.65238167e-07 -4.59440546e-07 -4.53177334e-07 ... -4.81185667e-07\n",
      "  -4.76979057e-07 -4.72294844e-07]\n",
      " [ 5.35760774e-07  5.42001224e-07  5.47745811e-07 ...  5.11385741e-07\n",
      "   5.19226341e-07  5.26595421e-07]\n",
      " [-2.29030943e-07 -2.44915203e-07 -2.60558527e-07 ... -1.74375186e-07\n",
      "  -1.90937417e-07 -2.07309915e-07]]\n",
      "[[ 0.00000000e+00  0.00000000e+00  0.00000000e+00 ...  0.00000000e+00\n",
      "   0.00000000e+00  0.00000000e+00]\n",
      " [-3.66092618e-06 -3.63901071e-06 -3.61402361e-06 ... -3.71166193e-06\n",
      "  -3.70009077e-06 -3.68541965e-06]\n",
      " [ 6.65996174e-07  7.49051277e-07  8.31466268e-07 ...  3.85168572e-07\n",
      "   4.69787610e-07  5.53989508e-07]\n",
      " ...\n",
      " [-3.91627112e-07 -3.81627927e-07 -3.71228132e-07 ... -4.21974277e-07\n",
      "  -4.13382533e-07 -4.04363264e-07]\n",
      " [ 5.74558395e-07  5.75883378e-07  5.76675083e-07 ...  5.66306793e-07\n",
      "   5.69393035e-07  5.71954533e-07]\n",
      " [-3.69191920e-07 -3.82228827e-07 -3.94896360e-07 ... -3.23190020e-07\n",
      "  -3.37355093e-07 -3.51192938e-07]]\n"
     ]
    },
    {
     "data": {
      "image/png": "[encoded data removed]",
      "text/plain": [
       "<Figure size 432x288 with 1 Axes>"
      ]
     },
     "metadata": {
      "needs_background": "light"
     },
     "output_type": "display_data"
    }
   ],
   "source": [
    "# FILTERING\n",
    "audio_filtered_complete = filtering(array_audio_signals, sub_arrays, frequency_bands, f_sampling, array_matrices[array].get_elements())"
   ]
  },
  {
   "cell_type": "code",
   "execution_count": 21,
   "metadata": {},
   "outputs": [
    {
     "name": "stdout",
     "output_type": "stream",
     "text": [
      "\n",
      " x_ind: 1\n",
      "\t y_ind: 1 2 3 4 5 6 7 8 9 10 \n",
      " x_ind: 2\n",
      "\t y_ind: 1 2 3 4 5 6 7 8 9 10 \n",
      " x_ind: 3\n",
      "\t y_ind: 1 2 3 4 5 6 7 8 9 10 \n",
      " x_ind: 4\n",
      "\t y_ind: 1 2 3 4 5 6 7 8 9 10 \n",
      " x_ind: 5\n",
      "\t y_ind: 1 2 3 4 5 6 7 8 9 10 \n",
      " x_ind: 6\n",
      "\t y_ind: 1 2 3 4 5 6 7 8 9 10 \n",
      " x_ind: 7\n",
      "\t y_ind: 1 2 3 4 5 6 7 8 9 10 \n",
      " x_ind: 8\n",
      "\t y_ind: 1 2 3 4 5 6 7 8 9 10 \n",
      " x_ind: 9\n",
      "\t y_ind: 1 2 3 4 5 6 7 8 9 10 \n",
      " x_ind: 10\n",
      "\t y_ind: 1 2 3 4 5 6 7 8 9 10 "
     ]
    }
   ],
   "source": [
    "# start scanning after sources, at all different angles, \n",
    "intensity_maps = scanning(y_listen, x_listen, r_scan, frequency_bands, audio_filtered_complete, array_matrices, f_sampling, sub_arrays)"
   ]
  },
  {
   "cell_type": "code",
   "execution_count": 22,
   "metadata": {},
   "outputs": [
    {
     "data": {
      "image/png": "[encoded data removed]",
      "text/plain": [
       "<Figure size 432x288 with 1 Axes>"
      ]
     },
     "metadata": {
      "needs_background": "light"
     },
     "output_type": "display_data"
    }
   ],
   "source": [
    "# Check where the source is actually located\n",
    "validation_check(y_listen, x_listen, sources, r_scan)"
   ]
  },
  {
   "cell_type": "code",
   "execution_count": 24,
   "metadata": {},
   "outputs": [
    {
     "data": {
      "image/png": "[encoded data removed]",
      "text/plain": [
       "<Figure size 432x288 with 1 Axes>"
      ]
     },
     "metadata": {
      "needs_background": "light"
     },
     "output_type": "display_data"
    }
   ],
   "source": [
    "# show the beamforming results\n",
    "total_intensity = show_beamforming_results(y_listen, x_listen, intensity_maps)"
   ]
  }
 ],
 "metadata": {
  "kernelspec": {
   "display_name": "Python 3.8.10 64-bit",
   "language": "python",
   "name": "python3"
  },
  "language_info": {
   "codemirror_mode": {
    "name": "ipython",
    "version": 3
   },
   "file_extension": ".py",
   "mimetype": "text/x-python",
   "name": "python",
   "nbconvert_exporter": "python",
   "pygments_lexer": "ipython3",
   "version": "3.8.10"
  },
  "orig_nbformat": 4,
  "vscode": {
   "interpreter": {
    "hash": "916dbcbb3f70747c44a77c7bcd40155683ae19c65e1c03b4aa3499c5328201f1"
   }
  }
 },
 "nbformat": 4,
 "nbformat_minor": 2
}
