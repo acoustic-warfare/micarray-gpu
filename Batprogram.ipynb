{
 "cells": [
  {
   "cell_type": "code",
   "execution_count": 1,
   "metadata": {},
   "outputs": [],
   "source": [
    "from cmath import sin\n",
    "import numpy as np\n",
    "import math\n",
    "import matplotlib.pyplot as plt\n",
    "from scipy import signal\n",
    "from Audio_data import Audio_data\n",
    "from Matrix_array import Matrix_array\n",
    "from Audio_source import Audio_source\n",
    "from Color_map import Color_map\n",
    "import config\n",
    "\n",
    "# GLOBAL VARIABLES\n",
    "c = 340                     # propagation speed of sound"
   ]
  },
  {
   "cell_type": "code",
   "execution_count": 2,
   "metadata": {},
   "outputs": [],
   "source": [
    "def antenna_setup():\n",
    "    r_a1 = config.r_a1      # coordinate position of origin of array1\n",
    "    r_a2 = config.r_a2      # coordinate position of origin of array2\n",
    "    r_a3 = config.r_a3      # coordinate position of origin of array3\n",
    "    r_a4 = config.r_a4      # coordinate position of origin of array4\n",
    "    uni_distance = config.distance\n",
    "    row_elements = config.rows\n",
    "    column_elements = config.columns\n",
    "\n",
    "    # array_matrix_1, array_matrix_2, array_matrix_3, array_matrix_4 below can be generated in parallell\n",
    "    array_matrix_1 = Matrix_array(r_a1,uni_distance,row_elements,column_elements)\n",
    "    array_matrix_2 = Matrix_array(r_a2,uni_distance,row_elements,column_elements)\n",
    "    array_matrix_3 = Matrix_array(r_a3,uni_distance,row_elements,column_elements)\n",
    "    array_matrix_4 = Matrix_array(r_a4,uni_distance,row_elements,column_elements)\n",
    "\n",
    "    # array_matrices contains the current active arrays that should be used (currently only array1 and array2)\n",
    "    array_matrices = np.array([array_matrix_1, array_matrix_2], dtype=object)\n",
    "\n",
    "    sub_arrays = len(array_matrices)\n",
    "\n",
    "    for array in range(sub_arrays):\n",
    "        plt.title('Array setup')\n",
    "        plt.scatter(array_matrices[array].get_r_prime()[0,:], array_matrices[array].get_r_prime()[1,:])\n",
    "        \n",
    "    return array_matrices"
   ]
  },
  {
   "cell_type": "code",
   "execution_count": 3,
   "metadata": {},
   "outputs": [],
   "source": [
    "def generate_array_signals(matrix_array, sources, t):\n",
    "    r_prime = matrix_array.get_r_prime()\n",
    "    Audio_signal = np.zeros((len(t), len(r_prime[0,:])))\n",
    "\n",
    "    for sample in range(len(t)):\n",
    "        if (sample+1 in np.linspace(0,len(t),11)) or (sample == 0): # print stuff so user know how many samples that have been generated\n",
    "            print(sample+1)                                         # print stuff so user know how many samples that have been generated\n",
    "        for mic in range(len(r_prime[0,:])):\n",
    "            x_i = r_prime[0,mic]\n",
    "            y_i = r_prime[1,mic]\n",
    "            temp_signal_sample = 0\n",
    "            for source in range(len(sources)):\n",
    "                if (sources[source].get_t_start() < t[sample]) and (t[sample] < sources[source].get_t_end()):\n",
    "                    frequencies_ps = sources[source].get_frequency()\n",
    "                    theta_source = sources[source].get_theta()\n",
    "                    phi_source = sources[source].get_phi()\n",
    "                    rho_soruce = sources[source].get_rho()\n",
    "                    for freq_ind in range(len(frequencies_ps)):\n",
    "                        k = 2*math.pi*frequencies_ps[freq_ind]/c\n",
    "                        r_1 = np.array([x_i,y_i,0])\n",
    "                        r_2 = rho_soruce * r_vec(theta_source,phi_source)\n",
    "                        norm_coeff = np.linalg.norm(r_2-r_1)\n",
    "                        phase_offset = -k*norm_coeff\n",
    "                        element_amplitude = 1/norm_coeff\n",
    "                        temp_signal_sample += element_amplitude * math.sin(2*math.pi* frequencies_ps[freq_ind] * t[sample] + phase_offset)\n",
    "            Audio_signal[sample,mic] = temp_signal_sample\n",
    "    return Audio_signal"
   ]
  },
  {
   "cell_type": "code",
   "execution_count": 4,
   "metadata": {},
   "outputs": [],
   "source": [
    "def r_vec(theta,phi):\n",
    "    r = np.array([(math.sin(theta)*math.cos(phi)), math.sin(theta)*math.sin(phi), math.cos(theta)])\n",
    "    return r"
   ]
  },
  {
   "cell_type": "code",
   "execution_count": 5,
   "metadata": {},
   "outputs": [],
   "source": [
    "def filtering(array_audio_signals, sub_arrays, frequency_bands, f_sampling, elements):\n",
    "    audio_filtered_complete = np.zeros((sub_arrays, len(frequency_bands)), dtype=object)\n",
    "    filter_order = config.filter_order              # filter order\n",
    "    scale_factor = config.scale_factor              # scale factor, making filter bandwidth more narrow\n",
    "\n",
    "    for array in range(sub_arrays):\n",
    "        Audio_signal = array_audio_signals[array].get_audio_signals()\n",
    "        calibration_weights = load_calibration_weights(array, elements, len(frequency_bands))\n",
    "        for freq_ind in range(len(frequency_bands)):\n",
    "            # filter design for each band\n",
    "            nu_0 = 2*frequency_bands[freq_ind]/f_sampling   # normalized frequency                        # scale factor, making filter bandwidth more narrow\n",
    "            cut_off = [nu_0 - nu_0/scale_factor, nu_0 + nu_0/scale_factor]\n",
    "            b = signal.firwin(filter_order, cut_off, window=\"hamming\", pass_zero=False) # filter coefficients\n",
    "            audio_temp = np.zeros((len(Audio_signal[:,0]),elements))\n",
    "            for mic_ind in range(elements):\n",
    "                # apply filter on every signal recorded from the elements\n",
    "                audio_temp[:,mic_ind] = calibration_weights[freq_ind,mic_ind] * signal.lfilter(b, 1.0, Audio_signal[:,mic_ind])\n",
    "\n",
    "            audio_filtered_complete[array,freq_ind] = Audio_data(audio_temp)\n",
    "            \n",
    "            # plot all filters\n",
    "            plt.figure(2)\n",
    "            w, h = signal.freqz(b, worN=8000)\n",
    "            H = 20*np.log10(abs(h))\n",
    "            plt.plot((w/math.pi)*f_sampling/2, 20*np.log10(abs(h)), linewidth=2)\n",
    "            plt.xlabel('Frequency (Hz)')\n",
    "            plt.ylabel('Gain (dB)')\n",
    "            plt.title('Frequency Response of all filters')\n",
    "            plt.ylim(-5, 0.5)\n",
    "            plt.xlim(70, f_sampling/2)\n",
    "            plt.grid(True)\n",
    "    print('Filtering of signals completed.')\n",
    "    return audio_filtered_complete"
   ]
  },
  {
   "cell_type": "code",
   "execution_count": 6,
   "metadata": {},
   "outputs": [],
   "source": [
    "def load_calibration_weights(array, elements, f_bands):\n",
    "    # placeholder function, to be completed later\n",
    "    # function should load calibration weights form file\n",
    "    # returns matrix with calibration weightsfor all microphones, at all calibration frequencies\n",
    "    weights = np.ones((f_bands,elements))\n",
    "    return weights"
   ]
  },
  {
   "cell_type": "code",
   "execution_count": 7,
   "metadata": {},
   "outputs": [],
   "source": [
    "def scanning(y_listen, x_listen, r_scan, frequency_bands, audio_filtered_complete, array_matrices, f_sampling, sub_arrays):\n",
    "    # Start scanning\n",
    "    color_maps_complete = np.zeros(len(frequency_bands), dtype=object)\n",
    "    for freq_ind in range(len(frequency_bands)):\n",
    "        color_map_new = np.zeros((len(y_listen),len(x_listen)))\n",
    "        color_maps_complete[freq_ind] = Color_map(color_map_new)\n",
    "    for x_ind in range(len(x_listen)):\n",
    "        print('\\n x_ind: '+str(x_ind+1))                # print stuff for user\n",
    "        x = x_listen[x_ind]                             # current x-coordinate\n",
    "        print('\\t y_ind:', end=' ')                     # print stuff for user\n",
    "        for y_ind in range(len(y_listen)):\n",
    "            print(str(y_ind+1), end=' ')                # print stuff for user\n",
    "            y = y_listen[y_ind]                         # current x-coordinate\n",
    "            z_0 = math.sqrt(r_scan**2 - x**2 - y**2)\n",
    "            theta = math.acos(z_0/r_scan)               # get theta from our x,y coordinates\n",
    "            phi = math.atan2(y,x)                       # get phi from our x,y coordinates\n",
    "            for freq_ind in range(len(frequency_bands)):\n",
    "                # apply beamforming algo. in every frequency band\n",
    "                frequency = frequency_bands[freq_ind]\n",
    "                mic_data = 0                            #create empty mic data\n",
    "\n",
    "                for array in range(sub_arrays):\n",
    "                    # Use the filtered audio signals\n",
    "                    audio_temp_signals = audio_filtered_complete[array, freq_ind].get_audio_signals()\n",
    "                    \n",
    "                    # Adaptive configuration of the antanna array\n",
    "                    adaptive_weight = adaptive_array_config(array_matrices[array], frequency)\n",
    "                    \n",
    "                    # Perform the beamforming algoritm (phase-shift input signal according to listening direction)\n",
    "                    mic_data = mic_data + beam_forming_algorithm(array_matrices[array],[theta,phi],adaptive_weight, audio_temp_signals, frequency, f_sampling)\n",
    "                \n",
    "                # obtain relative power in the listening direction\n",
    "                color = sum(abs(mic_data)**2)\n",
    "\n",
    "                # relative power inte the direction [theta, phi] saved in matrix\n",
    "                color_maps_complete[freq_ind].set_color(y_ind, x_ind, color)\n",
    "    return color_maps_complete"
   ]
  },
  {
   "cell_type": "code",
   "execution_count": 8,
   "metadata": {},
   "outputs": [],
   "source": [
    "def adaptive_array_config(matrix_array, frequency):\n",
    "    # Adaptive configuration of the antanna array\n",
    "    # Selects only necessary antenna-elements to maintain small beamwidth\n",
    "\n",
    "    row_elements = matrix_array.get_row_elements()\n",
    "    column_elements = matrix_array.get_row_elements()\n",
    "    uni_distance = matrix_array.get_uni_distance()\n",
    "    \n",
    "    wavelength = c/frequency                    # wavelength of signal\n",
    "    wavelength_rel = uni_distance/wavelength    # relative wavelenght to distance between microphone elements\n",
    "\n",
    "    if wavelength_rel>0.1581:\n",
    "        # mode 1\n",
    "        weight = np.ones((1, row_elements*column_elements))\n",
    "        return weight\n",
    "    elif (wavelength_rel <= 0.156) and (wavelength_rel > 0.0986):\n",
    "        mode = 3\n",
    "    elif (wavelength_rel <= 0.0986) and (wavelength_rel > 0.085):\n",
    "        mode = 5\n",
    "    elif (wavelength_rel <= 0.085) and (wavelength_rel > 0.07):\n",
    "        mode = 6\n",
    "    else:\n",
    "        mode = 7\n",
    "\n",
    "    weight = np.zeros((1,row_elements*column_elements))\n",
    "    row_lim = math.ceil(row_elements/mode)\n",
    "    column_lim = math.ceil(column_elements/mode)\n",
    "\n",
    "    for i in range(row_lim):\n",
    "        for j in range(column_lim):\n",
    "            element_index = (mode*i*row_elements + mode*j) # this calculation could be wrong thanks to matlab and python index :))\n",
    "            weight[0,element_index] = 1\n",
    "    return weight"
   ]
  },
  {
   "cell_type": "code",
   "execution_count": 9,
   "metadata": {},
   "outputs": [],
   "source": [
    "def beam_forming_algorithm(matrix_array,direction,weight,audio_signal,frequency,sampling_frequency):\n",
    "    #\n",
    "    #   IMPORTANT! The beamforming algorithm assumes the array matrices lies in the xy-plane\n",
    "    #\n",
    "    #   The beamforming algorithm calculates the necessary phase to introduce to the narrowband signal\n",
    "    #   in order to have the maximum directivity in the direction r(theta,phi)\n",
    "    #\n",
    "    #   This phase-shift is introduced by a phase shifting function, which acts as a filter in time domain.\n",
    "    #\n",
    "    #   To improve performance, all elements of the array matrices are not in use. The user decides which \n",
    "    #   element to use by sending in a weight vectir as a argument. The output signal is then normalized after\n",
    "    #   how many elements where in use.\n",
    "\n",
    "    #   Get the amount of samples of the audio tracks \n",
    "    samples = len(audio_signal[:,0])\n",
    "\n",
    "    #   The listening-direction vector contains two scalar values, theta and phi\n",
    "    theta = direction[0]\n",
    "    phi = direction[1]\n",
    "\n",
    "    #   The r_prime vector of the matrix array to know the location of every element, as well as how many \n",
    "    #   elements exists.\n",
    "    r_prime = matrix_array.get_r_prime()\n",
    "    elements = matrix_array.get_elements()\n",
    "\n",
    "    #   The narrowband wavevnumber\n",
    "    k = 2*math.pi*frequency/c\n",
    "\n",
    "    #   The normalized frequency\n",
    "    ny = frequency/sampling_frequency\n",
    "\n",
    "    #   Initialize output vector\n",
    "    mic_data = np.zeros((samples,1))\n",
    "\n",
    "    #   The compensation factors to obtain uniform phase in the direction r_hat(theta,phi)\n",
    "    x_factor = math.sin(theta)*math.cos(phi)\n",
    "    y_factor = math.sin(theta)*math.sin(phi)\n",
    "\n",
    "    for mic_ind in range(elements):\n",
    "        #   calculate the narrowband phase-shift\n",
    "        phase_shift_value = -k*(r_prime[0,mic_ind] * x_factor + r_prime[1,mic_ind]*y_factor)\n",
    "\n",
    "        #   Sum the individually shifted data from the atnenna elements as well as weight them with\n",
    "        #   appropriate weight.\n",
    "        mic_data = mic_data + weight[0,mic_ind] * phase_shift(audio_signal[:,mic_ind],ny,phase_shift_value)\n",
    "\n",
    "    norm_coeff = 1/sum(weight[0])\n",
    "    mic_data = mic_data * norm_coeff\n",
    "\n",
    "    return mic_data"
   ]
  },
  {
   "cell_type": "code",
   "execution_count": 10,
   "metadata": {},
   "outputs": [],
   "source": [
    "def phase_shift(x,ny,phase):\n",
    "    #   Input signal x\n",
    "    #\n",
    "    #   Output signal y\n",
    "    #\n",
    "    #   if x = cos(n*2*pi*ny), then y = cos(n*2*pi*ny + phase)\n",
    "    #\n",
    "    x_length = len(x)\n",
    "    y = np.zeros((x_length,1))\n",
    "\n",
    "    for i in range(x_length-1):\n",
    "        y[i] = math.cos(phase) * x[i] + math.sin(phase)/(2*math.pi*ny)*(x[i+1]/2 - x[i-1]/2)\n",
    "    \n",
    "    return y"
   ]
  },
  {
   "cell_type": "code",
   "execution_count": 11,
   "metadata": {},
   "outputs": [],
   "source": [
    "def extents(f):\n",
    "    # function to show images with correct grid values (with plt.imshow()), corresponding to our scanning window\n",
    "    delta = f[1]-f[0]\n",
    "    return [f[0] - delta/2, f[-1] + delta/2]"
   ]
  },
  {
   "cell_type": "code",
   "execution_count": 12,
   "metadata": {},
   "outputs": [],
   "source": [
    "def validation_check(y_listen, x_listen, sources, r_scan):\n",
    "    # Validation check\n",
    "    xy_val_check = np.zeros((len(y_listen),len(x_listen)))\n",
    "\n",
    "    for x_ind in range(len(x_listen)):\n",
    "        x = x_listen[x_ind]\n",
    "        for y_ind in range(len(y_listen)):\n",
    "            y = y_listen[y_ind]\n",
    "            temp_val = 0\n",
    "            for source_ind in range(len(sources)):\n",
    "                x_s = r_scan * math.sin(sources[source_ind].get_theta()) * math.cos(sources[source_ind].get_phi())\n",
    "                y_s = r_scan * math.sin(sources[source_ind].get_theta()) * math.sin(sources[source_ind].get_phi())\n",
    "                temp_val += 1/math.sqrt(((x_s -x)**2 + (y_s - y)**2))\n",
    "            xy_val_check[y_ind, x_ind] = temp_val\n",
    "\n",
    "    plt.figure(3)\n",
    "    plt.imshow(xy_val_check, extent= extents(x_listen) + extents(y_listen), origin='lower')\n",
    "    plt.title('Actual location of sources')"
   ]
  },
  {
   "cell_type": "code",
   "execution_count": 13,
   "metadata": {},
   "outputs": [],
   "source": [
    "def show_beamforming_results(y_listen, x_listen, color_maps):\n",
    "    color_map_intensity = np.zeros((len(y_listen), len(x_listen)))\n",
    "    for freq_ind in range(len(frequency_bands)):\n",
    "        color_map_intensity += color_maps[freq_ind].get_color_data_matrix()\n",
    "    plt.figure(4)\n",
    "    plt.imshow(color_map_intensity, extent= extents(x_listen) + extents(y_listen), origin='lower')\n",
    "    plt.title('Beamforming results')\n",
    "    return color_map_intensity"
   ]
  },
  {
   "cell_type": "code",
   "execution_count": 14,
   "metadata": {},
   "outputs": [],
   "source": [
    "def maximum_intensity(color_maps_complete, frequency_bands):\n",
    "    # Get maximum intensity of a signals, at any frequency\n",
    "    max_intensity = 0\n",
    "    for freq_ind in range(len(frequency_bands)):\n",
    "        intensity = np.max(np.max(color_maps_complete[freq_ind].get_color_data_matrix()))\n",
    "        if intensity > max_intensity:\n",
    "            max_intensity = intensity\n",
    "    return max_intensity"
   ]
  },
  {
   "cell_type": "code",
   "execution_count": 15,
   "metadata": {},
   "outputs": [],
   "source": [
    "# Initialization\n",
    "# f_sampling, t_start, t_end, away_distance are user defined variables\n",
    "f_sampling = config.f_sampling                      # sampling frequency in Hz\n",
    "t_start = config.t_start                            # start time of simulation \n",
    "t_end = config.t_end                                # end time of simulation\n",
    "t_total = t_end - t_start                           # total simulation time\n",
    "t = np.linspace(t_start, t_end, t_total*f_sampling) # time vector\n",
    "\n",
    "away_distance = config.away_distance                # distance between the array and sources\n"
   ]
  },
  {
   "cell_type": "code",
   "execution_count": 16,
   "metadata": {},
   "outputs": [
    {
     "data": {
      "image/png": "[encoded data removed]",
      "text/plain": [
       "<Figure size 432x288 with 1 Axes>"
      ]
     },
     "metadata": {
      "needs_background": "light"
     },
     "output_type": "display_data"
    }
   ],
   "source": [
    "# set up arrays\n",
    "array_matrices = antenna_setup()\n",
    "sub_arrays = len(array_matrices)\n"
   ]
  },
  {
   "cell_type": "code",
   "execution_count": 17,
   "metadata": {},
   "outputs": [],
   "source": [
    "# Create and place out sources\n",
    "source1 = Audio_source(config.f_start1, config.f_end1, config.f_res1, \\\n",
    "    config.theta_deg1, config.phi_deg1, config.away_distance, config.t_start1, config.t_end1)\n",
    "source2 = Audio_source(config.f_start2, config.f_end2, config.f_res2, \\\n",
    "    config.theta_deg2, config.phi_deg2, config.away_distance, config.t_start2, config.t_end2)\n",
    "sources = np.array([source1, source2])\n"
   ]
  },
  {
   "cell_type": "code",
   "execution_count": 18,
   "metadata": {},
   "outputs": [
    {
     "name": "stdout",
     "output_type": "stream",
     "text": [
      "Audio source1 properties:\n",
      "20.0\n",
      "40.0\n",
      "[300.         302.63157895 305.26315789 307.89473684 310.52631579\n",
      " 313.15789474 315.78947368 318.42105263 321.05263158 323.68421053\n",
      " 326.31578947 328.94736842 331.57894737 334.21052632 336.84210526\n",
      " 339.47368421 342.10526316 344.73684211 347.36842105 350.        ]\n",
      "0\n",
      "1.5\n",
      "700\n",
      "Audio source2 properties:\n",
      "-20.0\n",
      "40.0\n",
      "[300.         302.63157895 305.26315789 307.89473684 310.52631579\n",
      " 313.15789474 315.78947368 318.42105263 321.05263158 323.68421053\n",
      " 326.31578947 328.94736842 331.57894737 334.21052632 336.84210526\n",
      " 339.47368421 342.10526316 344.73684211 347.36842105 350.        ]\n",
      "0\n",
      "1.5\n",
      "700\n"
     ]
    }
   ],
   "source": [
    "print('Audio source1 properties:')\n",
    "print(sources[0].get_theta()*180/math.pi)\n",
    "print(sources[0].get_phi()*180/math.pi)\n",
    "print(sources[0].get_frequency())\n",
    "print(sources[0].get_t_start())\n",
    "print(sources[0].get_t_end())\n",
    "print(sources[0].get_rho())\n",
    "\n",
    "print('Audio source2 properties:')\n",
    "print(sources[1].get_theta()*180/math.pi)\n",
    "print(sources[1].get_phi()*180/math.pi)\n",
    "print(sources[1].get_frequency())\n",
    "print(sources[1].get_t_start())\n",
    "print(sources[1].get_t_end())\n",
    "print(sources[1].get_rho())"
   ]
  },
  {
   "cell_type": "code",
   "execution_count": 19,
   "metadata": {},
   "outputs": [
    {
     "name": "stdout",
     "output_type": "stream",
     "text": [
      "Number of samples generated (of 1000):\n",
      "1\n",
      "100\n",
      "200\n",
      "300\n",
      "400\n",
      "500\n",
      "600\n",
      "700\n",
      "800\n",
      "900\n",
      "1000\n",
      "Audio signal for array 1 generated\n",
      "1\n",
      "100\n",
      "200\n",
      "300\n",
      "400\n",
      "500\n",
      "600\n",
      "700\n",
      "800\n",
      "900\n",
      "1000\n",
      "Audio signal for array 2 generated\n"
     ]
    }
   ],
   "source": [
    "# GENERATE AUDIO SIGNALS\n",
    "array_audio_signals = np.zeros((sub_arrays), dtype=object)\n",
    "print('Number of samples generated (of '+str(f_sampling*t_total)+'):')\n",
    "for array in range(sub_arrays):\n",
    "    # generate the audio signals on each array-element for each sub-array\n",
    "    temp_signal = generate_array_signals(array_matrices[array],sources,t)\n",
    "    array_audio_signals[array] = Audio_data(temp_signal)\n",
    "    print('Audio signal for array '+str(array+1)+' generated')\n"
   ]
  },
  {
   "cell_type": "code",
   "execution_count": 20,
   "metadata": {},
   "outputs": [],
   "source": [
    "# BEAMFORMING values\n",
    "x_res = config.x_res                # resolution in x\n",
    "y_res = config.y_res                # resolution in y\n",
    "x_listen = np.linspace(-1,1,x_res)  # scanning window, x coordinates\n",
    "y_listen = np.linspace(-1,1,y_res)  # scanning window, y coordinates\n",
    "r_scan = math.sqrt(2)                          # radius of our scanning window, r_scan² = x²+y²+z²"
   ]
  },
  {
   "cell_type": "code",
   "execution_count": 21,
   "metadata": {},
   "outputs": [],
   "source": [
    "# Filtering values\n",
    "f_bands_N = config.f_bands_N         # number of frequency bands\n",
    "bandwidth = config.bandwidth         # bandwidth of incoming audio signal\n",
    "frequency_bands = np.linspace(bandwidth[0],bandwidth[1],f_bands_N) # vector holding center frequencies of all frequency bands\n",
    "samples = len(t)\n",
    "#filter_coefficients = np.zeros((f_bands_N, filter_order+1)) # might only be used for plots"
   ]
  },
  {
   "cell_type": "code",
   "execution_count": 22,
   "metadata": {},
   "outputs": [
    {
     "name": "stdout",
     "output_type": "stream",
     "text": [
      "Filtering of signals completed.\n"
     ]
    },
    {
     "data": {
      "image/png": "[encoded data removed]",
      "text/plain": [
       "<Figure size 432x288 with 1 Axes>"
      ]
     },
     "metadata": {
      "needs_background": "light"
     },
     "output_type": "display_data"
    }
   ],
   "source": [
    "# FILTERING\n",
    "audio_filtered_complete = filtering(array_audio_signals, sub_arrays, frequency_bands, f_sampling, array_matrices[0].get_elements())"
   ]
  },
  {
   "cell_type": "code",
   "execution_count": 25,
   "metadata": {},
   "outputs": [
    {
     "name": "stdout",
     "output_type": "stream",
     "text": [
      "\n",
      " x_ind: 1\n",
      "\t y_ind: 1 2 3 4 5 6 7 8 9 10 \n",
      " x_ind: 2\n",
      "\t y_ind: 1 2 3 4 5 6 7 8 9 10 \n",
      " x_ind: 3\n",
      "\t y_ind: 1 2 3 4 5 6 7 8 9 10 \n",
      " x_ind: 4\n",
      "\t y_ind: 1 2 3 4 5 6 7 8 9 10 \n",
      " x_ind: 5\n",
      "\t y_ind: 1 2 3 4 5 6 7 8 9 10 \n",
      " x_ind: 6\n",
      "\t y_ind: 1 2 3 4 5 6 7 8 9 10 \n",
      " x_ind: 7\n",
      "\t y_ind: 1 2 3 4 5 6 7 8 9 10 \n",
      " x_ind: 8\n",
      "\t y_ind: 1 2 3 4 5 6 7 8 9 10 \n",
      " x_ind: 9\n",
      "\t y_ind: 1 2 3 4 5 6 7 8 9 10 \n",
      " x_ind: 10\n",
      "\t y_ind: 1 2 3 4 5 6 7 8 9 10 "
     ]
    }
   ],
   "source": [
    "# start scanning after sources, at all different angles, \n",
    "intensity_maps = scanning(y_listen, x_listen, r_scan, frequency_bands, audio_filtered_complete, array_matrices, f_sampling, sub_arrays)"
   ]
  },
  {
   "cell_type": "code",
   "execution_count": 26,
   "metadata": {},
   "outputs": [
    {
     "data": {
      "image/png": "[encoded data removed]",
      "text/plain": [
       "<Figure size 432x288 with 1 Axes>"
      ]
     },
     "metadata": {
      "needs_background": "light"
     },
     "output_type": "display_data"
    }
   ],
   "source": [
    "# Check where the source is actually located\n",
    "validation_check(y_listen, x_listen, sources, r_scan)"
   ]
  },
  {
   "cell_type": "code",
   "execution_count": 27,
   "metadata": {},
   "outputs": [
    {
     "name": "stdout",
     "output_type": "stream",
     "text": [
      "[[7.01952780e-07 7.11633093e-07 7.18937373e-07 7.23802880e-07\n",
      "  7.26187715e-07 7.26071310e-07 7.23454670e-07 7.18360359e-07\n",
      "  7.10832239e-07 7.00934951e-07]\n",
      " [7.06126003e-07 7.15889891e-07 7.23264000e-07 7.28184995e-07\n",
      "  7.30610500e-07 7.30519594e-07 7.27913064e-07 7.22813387e-07\n",
      "  7.15264472e-07 7.05331140e-07]\n",
      " [7.09238263e-07 7.19071189e-07 7.26504186e-07 7.31473414e-07\n",
      "  7.33936083e-07 7.33870953e-07 7.31278586e-07 7.26181340e-07\n",
      "  7.18623101e-07 7.08668776e-07]\n",
      " [7.11280123e-07 7.21167342e-07 7.28648106e-07 7.33658166e-07\n",
      "  7.36154382e-07 7.36115225e-07 7.33541033e-07 7.28454006e-07\n",
      "  7.20897946e-07 7.10937739e-07]\n",
      " [7.12245395e-07 7.22171997e-07 7.29689262e-07 7.34732629e-07\n",
      "  7.37258673e-07 7.37245607e-07 7.34693545e-07 7.29624496e-07\n",
      "  7.22082108e-07 7.12131152e-07]\n",
      " [7.12131152e-07 7.22082108e-07 7.29624496e-07 7.34693545e-07\n",
      "  7.37245607e-07 7.37258673e-07 7.34732629e-07 7.29689262e-07\n",
      "  7.22171997e-07 7.12245395e-07]\n",
      " [7.10937739e-07 7.20897946e-07 7.28454006e-07 7.33541033e-07\n",
      "  7.36115225e-07 7.36154382e-07 7.33658166e-07 7.28648106e-07\n",
      "  7.21167342e-07 7.11280123e-07]\n",
      " [7.08668776e-07 7.18623101e-07 7.26181340e-07 7.31278586e-07\n",
      "  7.33870953e-07 7.33936083e-07 7.31473414e-07 7.26504186e-07\n",
      "  7.19071189e-07 7.09238263e-07]\n",
      " [7.05331140e-07 7.15264472e-07 7.22813387e-07 7.27913064e-07\n",
      "  7.30519594e-07 7.30610500e-07 7.28184995e-07 7.23264000e-07\n",
      "  7.15889891e-07 7.06126003e-07]\n",
      " [7.00934951e-07 7.10832239e-07 7.18360359e-07 7.23454670e-07\n",
      "  7.26071310e-07 7.26187715e-07 7.23802880e-07 7.18937373e-07\n",
      "  7.11633093e-07 7.01952780e-07]]\n"
     ]
    }
   ],
   "source": [
    "print(intensity_maps[4].get_color_data_matrix())"
   ]
  },
  {
   "cell_type": "code",
   "execution_count": 28,
   "metadata": {},
   "outputs": [
    {
     "data": {
      "image/png": "[encoded data removed]",
      "text/plain": [
       "<Figure size 432x288 with 1 Axes>"
      ]
     },
     "metadata": {
      "needs_background": "light"
     },
     "output_type": "display_data"
    }
   ],
   "source": [
    "# show the beamforming results\n",
    "total_intensity = show_beamforming_results(y_listen, x_listen, intensity_maps)"
   ]
  },
  {
   "cell_type": "code",
   "execution_count": 29,
   "metadata": {},
   "outputs": [
    {
     "name": "stdout",
     "output_type": "stream",
     "text": [
      "[[0.1581376  0.17144782 0.18199322 0.18926082 0.19289128 0.19270345\n",
      "  0.18870683 0.18110086 0.17026128 0.15671444]\n",
      " [0.16374405 0.17757386 0.18854396 0.19612063 0.19992917 0.19977949\n",
      "  0.19567915 0.18783284 0.17662833 0.16260998]\n",
      " [0.16799388 0.18222901 0.1935335  0.20135737 0.20531364 0.20520477\n",
      "  0.20103629 0.19301631 0.18154134 0.16716909]\n",
      " [0.17081213 0.18533107 0.19687372 0.20487851 0.20894949 0.20888339\n",
      "  0.20468354 0.19655967 0.18491351 0.17031131]\n",
      " [0.17214907 0.18682528 0.19850558 0.20662179 0.21077245 0.21075028\n",
      "  0.20655641 0.19840027 0.18668526 0.17198113]\n",
      " [0.17198113 0.18668526 0.19840027 0.20655641 0.21075028 0.21077245\n",
      "  0.20662179 0.19850558 0.18682528 0.17214907]\n",
      " [0.17031131 0.18491351 0.19655967 0.20468354 0.20888339 0.20894949\n",
      "  0.20487851 0.19687372 0.18533107 0.17081213]\n",
      " [0.16716909 0.18154134 0.19301631 0.20103629 0.20520477 0.20531364\n",
      "  0.20135737 0.1935335  0.18222901 0.16799388]\n",
      " [0.16260998 0.17662833 0.18783284 0.19567915 0.19977949 0.19992917\n",
      "  0.19612063 0.18854396 0.17757386 0.16374405]\n",
      " [0.15671444 0.17026128 0.18110086 0.18870683 0.19270345 0.19289128\n",
      "  0.18926082 0.18199322 0.17144782 0.1581376 ]]\n"
     ]
    }
   ],
   "source": [
    "print(total_intensity)"
   ]
  }
 ],
 "metadata": {
  "kernelspec": {
   "display_name": "Python 3.8.10 64-bit",
   "language": "python",
   "name": "python3"
  },
  "language_info": {
   "codemirror_mode": {
    "name": "ipython",
    "version": 3
   },
   "file_extension": ".py",
   "mimetype": "text/x-python",
   "name": "python",
   "nbconvert_exporter": "python",
   "pygments_lexer": "ipython3",
   "version": "3.8.10"
  },
  "orig_nbformat": 4,
  "vscode": {
   "interpreter": {
    "hash": "916dbcbb3f70747c44a77c7bcd40155683ae19c65e1c03b4aa3499c5328201f1"
   }
  }
 },
 "nbformat": 4,
 "nbformat_minor": 2
}
