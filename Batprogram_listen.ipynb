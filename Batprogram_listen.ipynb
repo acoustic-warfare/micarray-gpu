{
 "cells": [
  {
   "cell_type": "code",
   "execution_count": 1,
   "metadata": {},
   "outputs": [],
   "source": [
    "import numpy as np\n",
    "import math\n",
    "import sounddevice\n",
    "import soundfile as sf\n",
    "import matplotlib.pyplot as plt\n",
    "from scipy import signal\n",
    "from Audio_data import Audio_data\n",
    "from Matrix_array import Matrix_array\n",
    "from Audio_source import Audio_source\n",
    "from Color_map import Color_map\n",
    "import config\n",
    "\n",
    "# GLOBAL VARIABLES\n",
    "c = 340                     # propagation speed of sound"
   ]
  },
  {
   "cell_type": "code",
   "execution_count": 2,
   "metadata": {},
   "outputs": [],
   "source": [
    "def antenna_setup():\n",
    "    r_a1 = config.r_a1      # coordinate position of origin of array1\n",
    "    r_a2 = config.r_a2      # coordinate position of origin of array2\n",
    "    r_a3 = config.r_a3      # coordinate position of origin of array3\n",
    "    r_a4 = config.r_a4      # coordinate position of origin of array4\n",
    "    uni_distance = config.distance\n",
    "    row_elements = config.rows\n",
    "    column_elements = config.columns\n",
    "\n",
    "    # array_matrix_1, array_matrix_2, array_matrix_3, array_matrix_4 below can be generated in parallell\n",
    "    array_matrix_1 = Matrix_array(r_a1,uni_distance,row_elements,column_elements)\n",
    "    array_matrix_2 = Matrix_array(r_a2,uni_distance,row_elements,column_elements)\n",
    "    array_matrix_3 = Matrix_array(r_a3,uni_distance,row_elements,column_elements)\n",
    "    array_matrix_4 = Matrix_array(r_a4,uni_distance,row_elements,column_elements)\n",
    "\n",
    "    # array_matrices contains the current active arrays that should be used (currently only array1 and array2)\n",
    "    array_matrices = np.array([array_matrix_1], dtype=object)\n",
    "\n",
    "    sub_arrays = len(array_matrices)\n",
    "\n",
    "    for array in range(sub_arrays):\n",
    "        plt.title('Array setup')\n",
    "        plt.scatter(array_matrices[array].get_r_prime()[0,:], array_matrices[array].get_r_prime()[1,:])\n",
    "        \n",
    "    return array_matrices"
   ]
  },
  {
   "cell_type": "code",
   "execution_count": 3,
   "metadata": {},
   "outputs": [],
   "source": [
    "def generate_array_signals(matrix_array, sources, t):\n",
    "    r_prime = matrix_array.get_r_prime()\n",
    "    Audio_signal = np.zeros((len(t), len(r_prime[0,:])))\n",
    "\n",
    "    for sample in range(len(t)):\n",
    "        if (sample+1 in np.linspace(0,len(t),11)) or (sample == 0): # print stuff so user know how many samples that have been generated\n",
    "            print(sample+1)                                         # print stuff so user know how many samples that have been generated\n",
    "        for mic in range(len(r_prime[0,:])):\n",
    "            x_i = r_prime[0,mic]\n",
    "            y_i = r_prime[1,mic]\n",
    "            temp_signal_sample = 0\n",
    "            for source in range(len(sources)):\n",
    "                if (sources[source].get_t_start() < t[sample]) and (t[sample] < sources[source].get_t_end()):\n",
    "                    frequencies_ps = sources[source].get_frequency()\n",
    "                    theta_source = sources[source].get_theta()\n",
    "                    phi_source = sources[source].get_phi()\n",
    "                    rho_soruce = sources[source].get_rho()\n",
    "                    for freq_ind in range(len(frequencies_ps)):\n",
    "                        k = 2*math.pi*frequencies_ps[freq_ind]/c\n",
    "                        r_1 = np.array([x_i,y_i,0])\n",
    "                        r_2 = rho_soruce * r_vec(theta_source,phi_source)\n",
    "                        norm_coeff = np.linalg.norm(r_2-r_1)\n",
    "                        phase_offset = -k*norm_coeff\n",
    "                        element_amplitude = 1/norm_coeff\n",
    "                        temp_signal_sample += element_amplitude * math.sin(2*math.pi* frequencies_ps[freq_ind] * t[sample] + phase_offset)\n",
    "            Audio_signal[sample,mic] = temp_signal_sample\n",
    "    return Audio_signal"
   ]
  },
  {
   "cell_type": "code",
   "execution_count": 4,
   "metadata": {},
   "outputs": [],
   "source": [
    "def r_vec(theta,phi):\n",
    "    r = np.array([(math.sin(theta)*math.cos(phi)), math.sin(theta)*math.sin(phi), math.cos(theta)])\n",
    "    return r"
   ]
  },
  {
   "cell_type": "code",
   "execution_count": 6,
   "metadata": {},
   "outputs": [],
   "source": [
    "def load_calibration_weights(array, elements, f_bands):\n",
    "    # placeholder function, to be completed later\n",
    "    # function should load calibration weights form file\n",
    "    # returns matrix with calibration weightsfor all microphones, at all calibration frequencies\n",
    "    weights = np.ones((f_bands,elements))\n",
    "    return weights"
   ]
  },
  {
   "cell_type": "code",
   "execution_count": 9,
   "metadata": {},
   "outputs": [],
   "source": [
    "def listening_improved(array_audio_signals, array_matrices, theta, phi, adaptive_weight_matrix, calibration_weights, filter_coefficients, frequency_bands, f_sampling, samples, sub_arrays):\n",
    "    x_factor = math.sin(theta) * math.cos(phi)\n",
    "    y_factor = math.sin(theta) * math.sin(phi)\n",
    "    audio_out = np.zeros((samples,1))\n",
    "\n",
    "    for array in range(sub_arrays):\n",
    "        #print('array: '+str(array+1))               # print for user\n",
    "        r_prime = array_matrices[array].get_r_prime()\n",
    "        audio_signals = array_audio_signals[array].get_audio_signals()\n",
    "    \n",
    "        elements = config.rows*config.columns\n",
    "        print('freq_ind: ', end=' ')\n",
    "        for freq_ind in range(len(filter_coefficients[:,0])):\n",
    "            print(str(freq_ind+1), end=' ')  # print for user\n",
    "            b = filter_coefficients[freq_ind,:]     # filter coefficient for the current band\n",
    "            frequency = frequency_bands[freq_ind]   # center frequency\n",
    "            k = 2*math.pi*frequency/c               # the narrowband frequency\n",
    "            ny = frequency/f_sampling               # normalized frequency\n",
    "            weights = adaptive_weight_matrix[weight_index(frequency)-1,:]\n",
    "\n",
    "            audio_temp = np.zeros((samples,1))\n",
    "            mic_data = np.zeros((samples,1))\n",
    "            #print('\\t mic_ind:', end=' ')           # print stuff for user\n",
    "            for mic_ind in range(elements):\n",
    "                #print(str(mic_ind+1), end=' ')      # print stuff for user\n",
    "                if weights[mic_ind] == 1:\n",
    "                    audio_temp[:,0] = calibration_weights[freq_ind,mic_ind] * signal.lfilter(b, 1.0, audio_signals[:,mic_ind])\n",
    "                    phase_shift_value = -k*(r_prime[0,mic_ind] * x_factor + r_prime[1,mic_ind]*y_factor)\n",
    "\n",
    "                    #   Sum the individually shifted data from the atnenna elements as well as weight them with\n",
    "                    #   appropriate weight.\n",
    "                    mic_data += weights[mic_ind] * phase_shift(audio_temp,ny,phase_shift_value)\n",
    "\n",
    "            norm_coeff = 1/sum(weights)\n",
    "            audio_out += mic_data * norm_coeff\n",
    "    return audio_out\n",
    "\n",
    "\n",
    "            "
   ]
  },
  {
   "cell_type": "code",
   "execution_count": 13,
   "metadata": {},
   "outputs": [],
   "source": [
    "def adaptive_array_config_matrix(matrix_array):\n",
    "    # Creates the weight matrix\n",
    "    row_elements = matrix_array.get_row_elements()\n",
    "    column_elements = matrix_array.get_row_elements()\n",
    "\n",
    "    weight_matrix = np.zeros((7, row_elements*column_elements))\n",
    "\n",
    "\n",
    "    for mode in range(1,config.modes+1):\n",
    "        weight = np.zeros((1,row_elements*column_elements))\n",
    "        row_lim = math.ceil(row_elements/mode)\n",
    "        column_lim = math.ceil(column_elements/mode)\n",
    "        for i in range(row_lim):\n",
    "            for j in range(column_lim):\n",
    "                element_index = (mode*i*row_elements + mode*j) # this calculation could be wrong thanks to matlab and python index :))\n",
    "                weight[0,element_index] = 1\n",
    "        weight_matrix[mode-1,:] = weight\n",
    "    return weight_matrix"
   ]
  },
  {
   "cell_type": "code",
   "execution_count": 14,
   "metadata": {},
   "outputs": [],
   "source": [
    "def weight_index(frequency):\n",
    "    # calculates what mode to use, depending on the wavelength of the signal\n",
    "    uni_distance = config.distance              # distance between elements\n",
    "    wavelength_rel = frequency*uni_distance/c    # relative wavelength to distance between microphone elements\n",
    "\n",
    "    if wavelength_rel>0.1581:\n",
    "        mode = 1\n",
    "    elif (wavelength_rel <= 0.156) and (wavelength_rel > 0.0986):\n",
    "        mode = 3\n",
    "    elif (wavelength_rel <= 0.0986) and (wavelength_rel > 0.085):\n",
    "        mode = 5\n",
    "    elif (wavelength_rel <= 0.085) and (wavelength_rel > 0.07):\n",
    "        mode = 6\n",
    "    else:\n",
    "        mode = 7\n",
    "    return mode"
   ]
  },
  {
   "cell_type": "code",
   "execution_count": 15,
   "metadata": {},
   "outputs": [],
   "source": [
    "def phase_shift(x,ny,phase):\n",
    "    #   Input signal x\n",
    "    #\n",
    "    #   Output signal y\n",
    "    #\n",
    "    #   if x = cos(n*2*pi*ny), then y = cos(n*2*pi*ny + phase)\n",
    "    #\n",
    "    x_length = len(x)\n",
    "    y = np.zeros((x_length,1))\n",
    "\n",
    "    for i in range(x_length-1):\n",
    "        y[i] = math.cos(phase) * x[i] + math.sin(phase)/(2*math.pi*ny)*(x[i+1]/2 - x[i-1]/2)\n",
    "    \n",
    "    return y"
   ]
  },
  {
   "cell_type": "code",
   "execution_count": 20,
   "metadata": {},
   "outputs": [],
   "source": [
    "def calculate_filter_coefficients(f_sampling, frequency_bands):\n",
    "    scale_factor = config.scale_factor\n",
    "    f_bands_N = config.f_bands_N\n",
    "    filter_order = config.filter_order\n",
    "    f_coefficients = np.zeros((f_bands_N, filter_order))\n",
    "    for freq_ind in range(config.f_bands_N):\n",
    "        nu_0 = 2*frequency_bands[freq_ind]/f_sampling\n",
    "        cut_off = [nu_0 - nu_0/scale_factor, nu_0 + nu_0/scale_factor]\n",
    "        b = signal.firwin(filter_order, cut_off, window=\"hamming\", pass_zero=False) # filter coefficients\n",
    "        f_coefficients[freq_ind,:] = b\n",
    "    return f_coefficients"
   ]
  },
  {
   "cell_type": "code",
   "execution_count": 21,
   "metadata": {},
   "outputs": [],
   "source": [
    "from pathlib import Path\n",
    "\n",
    "def load_data(filename):\n",
    "    initial = config.initial_values\n",
    "    # Load recorded data from file\n",
    "    path = Path('/home/batman/BatSignal/data/studion1507/' + filename + '.txt')\n",
    "    data = np.loadtxt(open(path,'rb'),delimiter=',')\n",
    "\n",
    "    # Get sampling frequency\n",
    "    f_sampling = data[0,0]\n",
    "\n",
    "    # take out only the values of the microphones (column 2:66)\n",
    "    # and data after the initial startup (rows initial:end)\n",
    "    data = data[initial:,2:66]\n",
    "    return Audio_data(data), int(f_sampling)\n"
   ]
  },
  {
   "cell_type": "code",
   "execution_count": 27,
   "metadata": {},
   "outputs": [],
   "source": [
    "def play_sound(sound_signal, f_sampling):\n",
    "    # plays sound, and writes audio to .wav file\n",
    "    scaled_signal = sound_signal/np.max(np.abs(sound_signal)) # Scaled signal\n",
    "    sounddevice.play(scaled_signal, f_sampling, blocking=True)\n",
    "\n",
    "    sf.write(\"test.wav\", scaled_signal, int(f_sampling), 'PCM_24')\n"
   ]
  },
  {
   "cell_type": "code",
   "execution_count": 23,
   "metadata": {},
   "outputs": [],
   "source": [
    "# Initialization\n",
    "# f_sampling, t_start, t_end, away_distance are user defined variables\n",
    "f_sampling = config.f_sampling                      # sampling frequency in Hz\n",
    "t_start = config.t_start                            # start time of simulation \n",
    "t_end = config.t_end                                # end time of simulation\n",
    "t_total = t_end - t_start                           # total simulation time\n",
    "t = np.linspace(t_start, t_end, t_total*f_sampling) # time vector\n",
    "\n",
    "away_distance = config.away_distance                # distance between the array and sources\n"
   ]
  },
  {
   "cell_type": "code",
   "execution_count": 24,
   "metadata": {},
   "outputs": [
    {
     "data": {
      "image/png": "[encoded data removed]",
      "text/plain": [
       "<Figure size 432x288 with 1 Axes>"
      ]
     },
     "metadata": {
      "needs_background": "light"
     },
     "output_type": "display_data"
    }
   ],
   "source": [
    "# set up arrays\n",
    "array_matrices = antenna_setup()\n",
    "sub_arrays = len(array_matrices)"
   ]
  },
  {
   "cell_type": "code",
   "execution_count": 25,
   "metadata": {},
   "outputs": [],
   "source": [
    "# Create and place out sources\n",
    "source1 = Audio_source(config.f_start1, config.f_end1, config.f_res1, \\\n",
    "    config.theta_deg1, config.phi_deg1, config.away_distance, config.t_start1, config.t_end1)\n",
    "source2 = Audio_source(config.f_start2, config.f_end2, config.f_res2, \\\n",
    "    config.theta_deg2, config.phi_deg2, config.away_distance, config.t_start2, config.t_end2)\n",
    "sources = np.array([source1, source2])\n"
   ]
  },
  {
   "cell_type": "code",
   "execution_count": 44,
   "metadata": {},
   "outputs": [
    {
     "name": "stdout",
     "output_type": "stream",
     "text": [
      "Loading recorded data: studion_A2_sound_0deg.bin\n"
     ]
    }
   ],
   "source": [
    "# AUDIO SIGNALS\n",
    "if config.audio_signals == 'emulated':\n",
    "    filename = \"array_audio_signals.npy\"\n",
    "    try:\n",
    "        # array_audio_signals = np.load(filename)\n",
    "        array_audio_signals = np.load(filename, allow_pickle=True)\n",
    "        print(\"Loading from Memory: \" + filename)\n",
    "    except:\n",
    "        print(\"Creating data\")\n",
    "\n",
    "        # Create and place out sources\n",
    "        # source1 and source2 below can be generated in parallell\n",
    "        source1 = Audio_source(config.f_start1, config.f_end1, config.f_res1,\n",
    "                            config.theta_deg1, config.phi_deg1, config.away_distance, config.t_start1, config.t_end1)\n",
    "        source2 = Audio_source(config.f_start2, config.f_end2, config.f_res2,\n",
    "                            config.theta_deg2, config.phi_deg2, config.away_distance, config.t_start2, config.t_end2)\n",
    "        sources = np.array([source1, source2])\n",
    "        \n",
    "        # GENERATE AUDIO SIGNAL\n",
    "        # will only be used to emulate data, this will not be used when the algoritm runs with real data\n",
    "        array_audio_signals = np.zeros((sub_arrays), dtype=object)\n",
    "        print('Number of samples generated (of '+str(f_sampling*t_total)+'):')\n",
    "        for array in range(sub_arrays):  # PARALLELL\n",
    "            # generate the audio signals on each array-element for each sub-array\n",
    "            temp_signal = generate_array_signals(array_matrices[array], sources, t)\n",
    "            array_audio_signals[array] = Audio_data(temp_signal)\n",
    "            print('Audio signal for array '+str(array+1)+' generated')\n",
    "\n",
    "        np.save(filename, array_audio_signals)\n",
    "\n",
    "elif config.audio_signals == 'recorded':\n",
    "    filename = 'studion_A2_sound_0deg.bin'\n",
    "    print('Loading recorded data: '+filename)\n",
    "    array_audio_signals = np.zeros((sub_arrays), dtype=object)\n",
    "    array_audio_signals[0], f_sampling = load_data(filename)\n",
    "else:\n",
    "    array_audio_signals = 0\n",
    "\n"
   ]
  },
  {
   "cell_type": "code",
   "execution_count": 41,
   "metadata": {},
   "outputs": [],
   "source": [
    "# Play recorded sound from original signal from one mic (mic 7)\n",
    "original_signal = array_audio_signals[0].get_audio_signals()[:,7]\n",
    "play_sound(original_signal, f_sampling)"
   ]
  },
  {
   "cell_type": "code",
   "execution_count": 35,
   "metadata": {},
   "outputs": [],
   "source": [
    "# Filtering values\n",
    "f_bands_N = config.f_bands_N         # number of frequency bands\n",
    "bandwidth = config.bandwidth         # bandwidth of incoming audio signal\n",
    "frequency_bands = np.linspace(bandwidth[0],bandwidth[1],f_bands_N) # vector holding center frequencies of all frequency bands\n",
    "samples = len(array_audio_signals[0].get_audio_signals()[:,0])\n",
    "#filter_coefficients = np.zeros((f_bands_N, filter_order+1)) # might only be used for plots"
   ]
  },
  {
   "cell_type": "code",
   "execution_count": 36,
   "metadata": {},
   "outputs": [],
   "source": [
    "# load adaptive weights, calibration weights and filter coefficients\n",
    "adaptive_weights_matrix = adaptive_array_config_matrix(array_matrices[0])\n",
    "calibration_weights = load_calibration_weights(0,config.rows*config.columns, config.f_bands_N)\n",
    "filter_coefficients = calculate_filter_coefficients(f_sampling, frequency_bands)"
   ]
  },
  {
   "cell_type": "code",
   "execution_count": 37,
   "metadata": {},
   "outputs": [
    {
     "name": "stdout",
     "output_type": "stream",
     "text": [
      "freq_ind:  1 2 3 4 5 6 7 8 9 10 11 12 13 14 15 16 17 18 19 20 21 22 23 24 25 26 27 28 29 30 31 32 33 34 35 36 37 38 39 40 41 42 43 44 45 "
     ]
    }
   ],
   "source": [
    "# Begin signal processing on the signals\n",
    "audio = listening_improved(array_audio_signals, array_matrices, config.theta_listen, config.phi_listen, adaptive_weights_matrix, calibration_weights, filter_coefficients, frequency_bands, f_sampling, samples, sub_arrays)"
   ]
  },
  {
   "cell_type": "code",
   "execution_count": 43,
   "metadata": {},
   "outputs": [],
   "source": [
    "# play sound after signal processing\n",
    "play_sound(audio, f_sampling)"
   ]
  }
 ],
 "metadata": {
  "kernelspec": {
   "display_name": "Python 3.8.10 64-bit",
   "language": "python",
   "name": "python3"
  },
  "language_info": {
   "codemirror_mode": {
    "name": "ipython",
    "version": 3
   },
   "file_extension": ".py",
   "mimetype": "text/x-python",
   "name": "python",
   "nbconvert_exporter": "python",
   "pygments_lexer": "ipython3",
   "version": "3.8.10"
  },
  "orig_nbformat": 4,
  "vscode": {
   "interpreter": {
    "hash": "916dbcbb3f70747c44a77c7bcd40155683ae19c65e1c03b4aa3499c5328201f1"
   }
  }
 },
 "nbformat": 4,
 "nbformat_minor": 2
}
