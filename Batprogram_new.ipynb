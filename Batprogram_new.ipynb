{
 "cells": [
  {
   "cell_type": "code",
   "execution_count": 1,
   "metadata": {},
   "outputs": [],
   "source": [
    "import numpy as np\n",
    "import math\n",
    "import sounddevice\n",
    "import soundfile as sf\n",
    "import matplotlib.pyplot as plt\n",
    "from scipy import signal\n",
    "from Audio_data import Audio_data\n",
    "from Matrix_array import Matrix_array\n",
    "from Audio_source import Audio_source\n",
    "from Color_map import Color_map\n",
    "from pathlib import Path\n",
    "\n",
    "import config\n",
    "\n",
    "# GLOBAL VARIABLES\n",
    "c = 340                     # propagation speed of sound"
   ]
  },
  {
   "cell_type": "code",
   "execution_count": 2,
   "metadata": {},
   "outputs": [],
   "source": [
    "def antenna_setup():\n",
    "    r_a1 = config.r_a1      # coordinate position of origin of array1\n",
    "    r_a2 = config.r_a2      # coordinate position of origin of array2\n",
    "    r_a3 = config.r_a3      # coordinate position of origin of array3\n",
    "    r_a4 = config.r_a4      # coordinate position of origin of array4\n",
    "    uni_distance = config.distance\n",
    "    row_elements = config.rows\n",
    "    column_elements = config.columns\n",
    "\n",
    "    # array_matrix_1, array_matrix_2, array_matrix_3, array_matrix_4 below can be generated in parallell\n",
    "    array_matrix_1 = Matrix_array(r_a1,uni_distance,row_elements,column_elements)\n",
    "    array_matrix_2 = Matrix_array(r_a2,uni_distance,row_elements,column_elements)\n",
    "    array_matrix_3 = Matrix_array(r_a3,uni_distance,row_elements,column_elements)\n",
    "    array_matrix_4 = Matrix_array(r_a4,uni_distance,row_elements,column_elements)\n",
    "    array_list = [array_matrix_1, array_matrix_2, array_matrix_3, array_matrix_4]\n",
    "\n",
    "    # array_matrices contains the current active arrays that should be used \n",
    "    #  (number of arrays defined by config.matrices)\n",
    "    array_matrices = np.array(array_list[:config.active_arrays], dtype=object)\n",
    "    \n",
    "    # array_matrices = np.array([array_matrix_1, array_matrix_2, array_matrix_3, array_matrix_4], dtype=object)\n",
    "\n",
    "    sub_arrays = len(array_matrices)\n",
    "\n",
    "    for array in range(sub_arrays):\n",
    "        plt.title('Array setup')\n",
    "        plt.scatter(array_matrices[array].get_r_prime()[0,:], array_matrices[array].get_r_prime()[1,:])\n",
    "        \n",
    "    return array_matrices"
   ]
  },
  {
   "cell_type": "code",
   "execution_count": 3,
   "metadata": {},
   "outputs": [],
   "source": [
    "def generate_array_signals(matrix_array, sources, t):\n",
    "    r_prime = matrix_array.get_r_prime()\n",
    "    Audio_signal = np.zeros((len(t), len(r_prime[0,:])))\n",
    "\n",
    "    for sample in range(len(t)):\n",
    "        if (sample+1 in np.linspace(0,len(t),10)) or (sample == 0): # print stuff so user know how many samples that have been generated\n",
    "            print(sample+1)                                         # print stuff so user know how many samples that have been generated\n",
    "        for mic in range(len(r_prime[0,:])):\n",
    "            x_i = r_prime[0,mic]\n",
    "            y_i = r_prime[1,mic]\n",
    "            temp_signal_sample = 0\n",
    "            for source in range(len(sources)):\n",
    "                if (sources[source].get_t_start() < t[sample]) and (t[sample] < sources[source].get_t_end()):\n",
    "                    frequencies_ps = sources[source].get_frequency()\n",
    "                    theta_source = sources[source].get_theta()\n",
    "                    phi_source = sources[source].get_phi()\n",
    "                    rho_soruce = sources[source].get_rho()\n",
    "                    for freq_ind in range(len(frequencies_ps)):\n",
    "                        k = 2*math.pi*frequencies_ps[freq_ind]/c\n",
    "                        r_1 = np.array([x_i,y_i,0])\n",
    "                        r_2 = rho_soruce * r_vec(theta_source,phi_source)\n",
    "                        norm_coeff = np.linalg.norm(r_2-r_1)\n",
    "                        phase_offset = -k*norm_coeff\n",
    "                        element_amplitude = 1/norm_coeff\n",
    "                        temp_signal_sample += element_amplitude * math.sin(2*math.pi* frequencies_ps[freq_ind] * t[sample] + phase_offset)\n",
    "            Audio_signal[sample,mic] = temp_signal_sample\n",
    "    return Audio_signal"
   ]
  },
  {
   "cell_type": "code",
   "execution_count": 4,
   "metadata": {},
   "outputs": [],
   "source": [
    "def r_vec(theta,phi):\n",
    "    r = np.array([(math.sin(theta)*math.cos(phi)), math.sin(theta)*math.sin(phi), math.cos(theta)])\n",
    "    return r"
   ]
  },
  {
   "cell_type": "code",
   "execution_count": 5,
   "metadata": {},
   "outputs": [],
   "source": [
    "def filtering(array_audio_signals, sub_arrays, frequency_bands, f_sampling, elements):\n",
    "    audio_filtered_complete = np.zeros((sub_arrays, len(frequency_bands)), dtype=object)\n",
    "    filter_order = config.filter_order              # filter order\n",
    "    scale_factor = config.scale_factor              # scale factor, making filter bandwidth more narrow\n",
    "\n",
    "    for array in range(sub_arrays):\n",
    "        Audio_signal = array_audio_signals[array].get_audio_signals()\n",
    "        calibration_weights = load_calibration_weights(array, elements, len(frequency_bands))\n",
    "        for freq_ind in range(len(frequency_bands)):\n",
    "            # filter design for each band\n",
    "            nu_0 = 2*frequency_bands[freq_ind]/f_sampling   # normalized frequency                        # scale factor, making filter bandwidth more narrow\n",
    "            cut_off = [nu_0 - nu_0/scale_factor, nu_0 + nu_0/scale_factor]\n",
    "            b = signal.firwin(filter_order, cut_off, window=\"hamming\", pass_zero=False) # filter coefficients\n",
    "            audio_temp = np.zeros((len(Audio_signal[:,0]),elements))\n",
    "            for mic_ind in range(elements):\n",
    "                # apply filter on every signal recorded from the elements\n",
    "                audio_temp[:,mic_ind] = calibration_weights[freq_ind,mic_ind] * signal.lfilter(b, 1.0, Audio_signal[:,mic_ind])\n",
    "\n",
    "            audio_filtered_complete[array,freq_ind] = Audio_data(audio_temp)\n",
    "\n",
    "            # plot all filters\n",
    "            plt.figure(2)\n",
    "            w, h = signal.freqz(b, worN=8000)\n",
    "            H = 20*np.log10(abs(h))\n",
    "            plt.plot((w/math.pi)*f_sampling/2, 20*np.log10(abs(h)), linewidth=2)\n",
    "            plt.xlabel('Frequency (Hz)')\n",
    "            plt.ylabel('Gain (dB)')\n",
    "            plt.title('Frequency Response of all filters')\n",
    "            plt.ylim(-5, 0.5)\n",
    "            plt.xlim(70, f_sampling/2)\n",
    "            plt.grid(True)\n",
    "    print('Filtering of signals completed.')\n",
    "    return audio_filtered_complete"
   ]
  },
  {
   "cell_type": "code",
   "execution_count": 6,
   "metadata": {},
   "outputs": [],
   "source": [
    "def load_calibration_weights(array, elements, f_bands):\n",
    "    # placeholder function, to be completed later\n",
    "    # function should load calibration weights form file\n",
    "    # returns matrix with calibration weightsfor all microphones, at all calibration frequencies\n",
    "    weights = np.ones((f_bands,elements))\n",
    "    #hamming_array = np.blackman(config.rows)\n",
    "    #for i in range(3):\n",
    "    #    hamming_array = np.append(hamming_array, hamming_array)\n",
    "    #weights[35:45,] = np.multiply(weights[35:45,], np.transpose(hamming_array))\n",
    "    return weights"
   ]
  },
  {
   "cell_type": "code",
   "execution_count": 7,
   "metadata": {},
   "outputs": [],
   "source": [
    "def scanning(y_listen, x_listen, r_scan, frequency_bands, audio_filtered_complete, array_matrices, f_sampling, sub_arrays):\n",
    "    # Start scanning\n",
    "    color_maps_complete = np.zeros(len(frequency_bands), dtype=object)\n",
    "    for freq_ind in range(len(frequency_bands)):\n",
    "        color_map_new = np.zeros((len(y_listen),len(x_listen)))\n",
    "        color_maps_complete[freq_ind] = Color_map(color_map_new)\n",
    "    for x_ind in range(len(x_listen)):\n",
    "        print('\\n x_ind: '+str(x_ind+1))                # print stuff for user\n",
    "        x = x_listen[x_ind]                             # current x-coordinate\n",
    "        print('\\t y_ind:', end=' ')                     # print stuff for user\n",
    "        for y_ind in range(len(y_listen)):\n",
    "            print(str(y_ind+1), end=' ')                # print stuff for user\n",
    "            y = y_listen[y_ind]                         # current x-coordinate\n",
    "            z_0 = math.sqrt(r_scan**2 - x**2 - y**2)\n",
    "            theta = math.acos(z_0/r_scan)               # get theta from our x,y coordinates\n",
    "            phi = math.atan2(y,x)                       # get phi from our x,y coordinates\n",
    "            for freq_ind in range(len(frequency_bands)):\n",
    "                # apply beamforming algo. in every frequency band \n",
    "                #mic_data = beam(audio_filtered_complete, array_matrices, theta, phi, frequency_bands[freq_ind], freq_ind, f_sampling)\n",
    "                mic_data = beam_forming_algorithm(audio_filtered_complete, array_matrices, theta, phi, frequency_bands[freq_ind], freq_ind, f_sampling)\n",
    "                \n",
    "                # obtain relative power in the listening direction\n",
    "                color = sum(abs(mic_data)**2)\n",
    "\n",
    "                # relative power inte the direction [theta, phi] saved in matrix\n",
    "                color_maps_complete[freq_ind].set_color(y_ind, x_ind, color)\n",
    "    return color_maps_complete"
   ]
  },
  {
   "cell_type": "code",
   "execution_count": 8,
   "metadata": {},
   "outputs": [],
   "source": [
    "def listening(audio_filtered_complete, array_matrices, theta_listen, phi_listen, frequency_bands, f_sampling, samples):\n",
    "    audio_out = np.zeros((samples))\n",
    "    theta_rad = theta_listen*math.pi/180    # listening angle in radians\n",
    "    phi_rad = phi_listen*math.pi/180        # listening angle in radians\n",
    "    for freq_ind in range(len(frequency_bands)):\n",
    "        print(freq_ind, end=' ')\n",
    "        mic_signal = beam_forming_algorithm(audio_filtered_complete,array_matrices, theta_rad, phi_rad, frequency_bands[freq_ind], freq_ind, f_sampling)\n",
    "        # MISO, summation of all mic_signals to one\n",
    "        audio_out += mic_signal[0]\n",
    "    # scale audio signal\n",
    "    audio_out = audio_out/max(audio_out)\n",
    "    return audio_out"
   ]
  },
  {
   "cell_type": "code",
   "execution_count": 9,
   "metadata": {},
   "outputs": [],
   "source": [
    "def listening_improved(array_audio_signals, array_matrices, theta, phi, adaptive_weight_matrix, calibration_weights, filter_coefficients, frequency_bands, f_sampling, samples, sub_arrays):\n",
    "    x_factor = math.sin(theta) * math.cos(phi)\n",
    "    y_factor = math.sin(theta) * math.sin(phi)\n",
    "    audio_out = np.zeros((samples,1))\n",
    "\n",
    "    for array in range(sub_arrays):\n",
    "        #print('array: '+str(array+1))               # print for user\n",
    "        r_prime = array_matrices[array].get_r_prime()\n",
    "        audio_signals = array_audio_signals[array].get_audio_signals()\n",
    "    \n",
    "        elements = config.rows*config.columns\n",
    "        print('freq_ind: ', end=' ')\n",
    "        for freq_ind in range(len(filter_coefficients[:,0])):\n",
    "            print(str(freq_ind+1), end=' ')  # print for user\n",
    "            b = filter_coefficients[freq_ind,:]     # filter coefficient for the current band\n",
    "            frequency = frequency_bands[freq_ind]   # center frequency\n",
    "            k = 2*math.pi*frequency/c               # the narrowband frequency\n",
    "            ny = frequency/f_sampling               # normalized frequency\n",
    "            weights = adaptive_weight_matrix[weight_index(frequency)-1,:]\n",
    "\n",
    "            audio_temp = np.zeros((samples,1))\n",
    "            mic_data = np.zeros((samples,1))\n",
    "\n",
    "            for mic_ind in range(elements):\n",
    "                if weights[mic_ind] == 1:\n",
    "                    audio_temp[:,0] = calibration_weights[freq_ind,mic_ind] * signal.lfilter(b, 1.0, audio_signals[:,mic_ind])\n",
    "                    phase_shift_value = -k*(r_prime[0,mic_ind] * x_factor + r_prime[1,mic_ind]*y_factor)\n",
    "\n",
    "                    #   Sum the individually shifted data from the atnenna elements as well as weight them with\n",
    "                    #   appropriate weight.\n",
    "                    mic_data += weights[mic_ind] * phase_shift(audio_temp,ny,phase_shift_value)\n",
    "\n",
    "            norm_coeff = 1/sum(weights)\n",
    "            audio_out += mic_data * norm_coeff\n",
    "    return audio_out\n",
    "\n"
   ]
  },
  {
   "cell_type": "code",
   "execution_count": 10,
   "metadata": {},
   "outputs": [],
   "source": [
    "def beam_forming_algorithm(audio_filtered_complete, array_matrices, theta, phi, frequency, freq_ind, f_sampling):\n",
    "    #samples = len(audio_filtered_complete[0, 0].get_audio_signals()[:,0])  # amount of samples of the audio tracks #################### ORIGINAL ####################\n",
    "    samples = len(audio_filtered_complete[0, 0].get_audio_signals()[200:,0])\n",
    "    array_data = np.zeros((samples,1))\n",
    "\n",
    "    for array in range(len(array_matrices)):\n",
    "        # Use the filtered audio signals\n",
    "        \n",
    "        #audio_temp_signals = audio_filtered_complete[array, freq_ind].get_audio_signals() #################### ORIGINAL ####################\n",
    "        audio_temp_signals = audio_filtered_complete[array, freq_ind].get_audio_signals()[200:,]\n",
    "\n",
    "        #   The r_prime vector of the matrix array to know the location of every element, as well as how many \n",
    "        #   elements exists.\n",
    "        r_prime = array_matrices[array].get_r_prime()\n",
    "        elements = array_matrices[array].get_elements()\n",
    "\n",
    "        #   The narrowband wavevnumber\n",
    "        k = 2*math.pi*frequency/c\n",
    "\n",
    "        #   The normalized frequency\n",
    "        ny = frequency/f_sampling\n",
    "\n",
    "        #   Initialize output vector\n",
    "        mic_data = np.zeros((samples,1))\n",
    "\n",
    "        #   The compensation factors to obtain uniform phase in the direction r_hat(theta,phi)\n",
    "        x_factor = math.sin(theta)*math.cos(phi)\n",
    "        y_factor = math.sin(theta)*math.sin(phi)\n",
    "                # Adaptive configuration of the antanna array\n",
    "        \n",
    "        adaptive_weight = adaptive_array_config(array_matrices[array], frequency)\n",
    "\n",
    "        for mic_ind in range(elements):\n",
    "            #   calculate the narrowband phase-shift\n",
    "            phase_shift_value = -k*(r_prime[0,mic_ind] * x_factor + r_prime[1,mic_ind]*y_factor)\n",
    "\n",
    "            #   Sum the individually shifted data from the atnenna elements as well as weight them with\n",
    "            #   appropriate weight.\n",
    "            mic_data = mic_data + adaptive_weight[0,mic_ind] * phase_shift(audio_temp_signals[:,mic_ind],ny,phase_shift_value)\n",
    "\n",
    "        norm_coeff = 1/sum(adaptive_weight[0])\n",
    "        mic_data = mic_data * norm_coeff\n",
    "\n",
    "        # Perform the beamforming algoritm (phase-shift input signal according to listening direction)\n",
    "        array_data += mic_data\n",
    "\n",
    "    return array_data"
   ]
  },
  {
   "cell_type": "code",
   "execution_count": 11,
   "metadata": {},
   "outputs": [],
   "source": [
    "def adaptive_array_config(matrix_array, frequency):\n",
    "    # Adaptive configuration of the antanna array\n",
    "    # Selects only necessary antenna-elements to maintain small beamwidth\n",
    "\n",
    "    row_elements = matrix_array.get_row_elements()\n",
    "    column_elements = matrix_array.get_row_elements()\n",
    "    uni_distance = matrix_array.get_uni_distance()\n",
    "    \n",
    "    wavelength = c/frequency                    # wavelength of signal\n",
    "    wavelength_rel = uni_distance/wavelength    # relative wavelenght to distance between microphone elements\n",
    "\n",
    "    if wavelength_rel>0.1581:\n",
    "        # mode 1\n",
    "        weight = np.ones((1, row_elements*column_elements))\n",
    "        return weight\n",
    "    elif (wavelength_rel <= 0.156) and (wavelength_rel > 0.0986):\n",
    "        mode = 3\n",
    "    elif (wavelength_rel <= 0.0986) and (wavelength_rel > 0.085):\n",
    "        mode = 5\n",
    "    elif (wavelength_rel <= 0.085) and (wavelength_rel > 0.07):\n",
    "        mode = 6\n",
    "    else:\n",
    "        mode = 7\n",
    "\n",
    "    weight = np.zeros((1,row_elements*column_elements))\n",
    "    row_lim = math.ceil(row_elements/mode)\n",
    "    column_lim = math.ceil(column_elements/mode)\n",
    "\n",
    "    for i in range(row_lim):\n",
    "        for j in range(column_lim):\n",
    "            element_index = (mode*i*row_elements + mode*j) # this calculation could be wrong thanks to matlab and python index :))\n",
    "            weight[0,element_index] = 1\n",
    "    return weight"
   ]
  },
  {
   "cell_type": "code",
   "execution_count": 12,
   "metadata": {},
   "outputs": [],
   "source": [
    "def adaptive_array_config_matrix(matrix_array):\n",
    "    # Creates the weight matrix\n",
    "    row_elements = matrix_array.get_row_elements()\n",
    "    column_elements = matrix_array.get_row_elements()\n",
    "\n",
    "    weight_matrix = np.zeros((7, row_elements*column_elements))\n",
    "\n",
    "\n",
    "    for mode in range(1,config.modes+1):\n",
    "        weight = np.zeros((1,row_elements*column_elements))\n",
    "        row_lim = math.ceil(row_elements/mode)\n",
    "        column_lim = math.ceil(column_elements/mode)\n",
    "        for i in range(row_lim):\n",
    "            for j in range(column_lim):\n",
    "                element_index = (mode*i*row_elements + mode*j) # this calculation could be wrong thanks to matlab and python index :))\n",
    "                weight[0,element_index] = 1\n",
    "        weight_matrix[mode-1,:] = weight\n",
    "    return weight_matrix"
   ]
  },
  {
   "cell_type": "code",
   "execution_count": 13,
   "metadata": {},
   "outputs": [],
   "source": [
    "def weight_index(frequency):\n",
    "    # calculates what mode to use, depending on the wavelength of the signal\n",
    "    uni_distance = config.distance              # distance between elements\n",
    "    wavelength_rel = frequency*uni_distance/c    # relative wavelength to distance between microphone elements\n",
    "\n",
    "    if wavelength_rel>0.1581:\n",
    "        mode = 1\n",
    "    elif (wavelength_rel <= 0.156) and (wavelength_rel > 0.0986):\n",
    "        mode = 3\n",
    "    elif (wavelength_rel <= 0.0986) and (wavelength_rel > 0.085):\n",
    "        mode = 5\n",
    "    elif (wavelength_rel <= 0.085) and (wavelength_rel > 0.07):\n",
    "        mode = 6\n",
    "    else:\n",
    "        mode = 7\n",
    "    return mode"
   ]
  },
  {
   "cell_type": "code",
   "execution_count": 14,
   "metadata": {},
   "outputs": [],
   "source": [
    "def phase_shift(x,ny,phase):\n",
    "    #   Input signal x\n",
    "    #\n",
    "    #   Output signal y\n",
    "    #\n",
    "    #   if x = cos(n*2*pi*ny), then y = cos(n*2*pi*ny + phase)\n",
    "    #\n",
    "    x_length = len(x)\n",
    "    y = np.zeros((x_length,1))\n",
    "\n",
    "    for i in range(x_length-1):\n",
    "        y[i] = math.cos(phase) * x[i] + math.sin(phase)/(2*math.pi*ny)*(x[i+1]/2 - x[i-1]/2)\n",
    "        #y[i] = math.cos(phase) * x[i] + math.sin(phase)/(2*math.pi*ny)*(x[i+1])\n",
    "    return y"
   ]
  },
  {
   "cell_type": "code",
   "execution_count": 15,
   "metadata": {},
   "outputs": [],
   "source": [
    "def extents(f):\n",
    "    # function to show images with correct grid values (with plt.imshow()), corresponding to our scanning window\n",
    "    delta = f[1]-f[0]\n",
    "    return [f[0] - delta/2, f[-1] + delta/2]"
   ]
  },
  {
   "cell_type": "code",
   "execution_count": 16,
   "metadata": {},
   "outputs": [],
   "source": [
    "def validation_check(y_listen, x_listen, sources, r_scan):\n",
    "    # Validation check\n",
    "    xy_val_check = np.zeros((len(y_listen),len(x_listen)))\n",
    "\n",
    "    for x_ind in range(len(x_listen)):\n",
    "        x = x_listen[x_ind]\n",
    "        for y_ind in range(len(y_listen)):\n",
    "            y = y_listen[y_ind]\n",
    "            temp_val = 0\n",
    "            for source_ind in range(len(sources)):\n",
    "                x_s = r_scan * math.sin(sources[source_ind].get_theta()) * math.cos(sources[source_ind].get_phi())\n",
    "                y_s = r_scan * math.sin(sources[source_ind].get_theta()) * math.sin(sources[source_ind].get_phi())\n",
    "                temp_val += 1/math.sqrt(((x_s -x)**2 + (y_s - y)**2))\n",
    "            xy_val_check[y_ind, x_ind] = temp_val\n",
    "\n",
    "    plt.figure(3)\n",
    "    plt.imshow(xy_val_check, extent= extents(x_listen) + extents(y_listen), origin='lower')\n",
    "    plt.title('Actual location of sources')"
   ]
  },
  {
   "cell_type": "code",
   "execution_count": 17,
   "metadata": {},
   "outputs": [],
   "source": [
    "def show_beamforming_results(y_listen, x_listen, color_maps):\n",
    "    color_map_intensity = np.zeros((len(y_listen), len(x_listen)))\n",
    "    for freq_ind in range(len(frequency_bands)):\n",
    "        color_map_intensity += color_maps[freq_ind].get_color_data_matrix() ####################### ORIGINAL ###########################\n",
    "        #color_map_intensity += color_maps[freq_ind].get_color_data_matrix() / (frequency_bands[freq_ind])\n",
    "    plt.figure(4)\n",
    "    plt.imshow(color_map_intensity, extent= extents(x_listen) + extents(y_listen), origin='lower')\n",
    "    plt.title('Beamforming results')\n",
    "    return color_map_intensity"
   ]
  },
  {
   "cell_type": "code",
   "execution_count": 18,
   "metadata": {},
   "outputs": [],
   "source": [
    "def maximum_intensity(color_maps_complete, frequency_bands):\n",
    "    # Get maximum intensity of a signals, at any frequency\n",
    "    max_intensity = 0\n",
    "    for freq_ind in range(len(frequency_bands)):\n",
    "        intensity = np.max(np.max(color_maps_complete[freq_ind].get_color_data_matrix()))\n",
    "        if intensity > max_intensity:\n",
    "            max_intensity = intensity\n",
    "    return max_intensity"
   ]
  },
  {
   "cell_type": "code",
   "execution_count": 19,
   "metadata": {},
   "outputs": [],
   "source": [
    "def calculate_filter_coefficients(f_sampling, frequency_bands):\n",
    "    scale_factor = config.scale_factor\n",
    "    f_bands_N = config.f_bands_N\n",
    "    filter_order = config.filter_order\n",
    "    f_coefficients = np.zeros((f_bands_N, filter_order))\n",
    "    for freq_ind in range(config.f_bands_N):\n",
    "        nu_0 = 2*frequency_bands[freq_ind]/f_sampling\n",
    "        cut_off = [nu_0 - nu_0/scale_factor, nu_0 + nu_0/scale_factor]\n",
    "        b = signal.firwin(filter_order, cut_off, window=\"hamming\", pass_zero=False) # filter coefficients\n",
    "        f_coefficients[freq_ind,:] = b\n",
    "    return f_coefficients"
   ]
  },
  {
   "cell_type": "code",
   "execution_count": 20,
   "metadata": {},
   "outputs": [],
   "source": [
    "def load_data(filename):\n",
    "    initial = config.initial_values\n",
    "    # Load recorded data from file\n",
    "    path = Path(config.path + filename + '.txt')\n",
    "    data = np.loadtxt(open(path,'rb'),delimiter=',')\n",
    "    # Get sampling frequency\n",
    "    f_sampling = data[0,0]\n",
    "\n",
    "    # take out only the values of the microphones (column 2:66)\n",
    "    # and data after the initial startup (rows initial:end)\n",
    "    #data = data[initial:,2:66]\n",
    "    data = data[initial:initial+300, 2:66]\n",
    "    return Audio_data(data), int(f_sampling)\n"
   ]
  },
  {
   "cell_type": "code",
   "execution_count": null,
   "metadata": {},
   "outputs": [],
   "source": [
    "def load_data_FPGA(filename):\n",
    "    initial = config.initial_values\n",
    "    # Load recorded data from file\n",
    "    path = Path(config.path + filename + '.txt')\n",
    "    data = np.loadtxt(open(path,'rb'),delimiter=',')\n",
    "    # Get sampling frequency\n",
    "    f_sampling = 15625\n",
    "\n",
    "    # take out only the values of the microphones (column 2:66)\n",
    "    # and data after the initial startup (rows initial:end)\n",
    "    #data = data[initial:,2:66]\n",
    "    data = data[initial:initial+300,]\n",
    "    return Audio_data(data), int(f_sampling)"
   ]
  },
  {
   "cell_type": "code",
   "execution_count": 21,
   "metadata": {},
   "outputs": [],
   "source": [
    "def play_sound(sound_signal, f_sampling):\n",
    "\n",
    "    sounddevice.play(sound_signal, f_sampling, blocking=True)\n",
    "\n",
    "    sf.write(\"test.wav\", sound_signal, int(f_sampling), 'PCM_24')\n"
   ]
  },
  {
   "cell_type": "code",
   "execution_count": 22,
   "metadata": {},
   "outputs": [],
   "source": [
    "def generate_filename():\n",
    "    if config.sources == 1:\n",
    "        filename ='emul_'+str(config.f_start1)+'Hz_'+'theta='+str(config.theta_deg1)+'_phi='+str(config.phi_deg1)+ \\\n",
    "            '_samples='+str(config.samples)+'_A'+str(config.active_arrays)\n",
    "    elif config.sources == 2:\n",
    "        filename ='emul_'+str(config.f_start1)+str(config.f_start2)+'Hz_'+'theta='+str(config.theta_deg1)+str(config.theta_deg2)+ \\\n",
    "        '_phi='+str(config.phi_deg1)+str(config.phi_deg2)+'_samples='+str(config.samples)+'_A'+str(config.active_arrays)\n",
    "    return filename"
   ]
  },
  {
   "cell_type": "code",
   "execution_count": 23,
   "metadata": {},
   "outputs": [],
   "source": [
    "def scanning_not_improved(array_audio_signals, array_matrices, x_listen, y_listen, r_scan, \n",
    "adaptive_weight_matrix, calibration_weights, filter_coefficients, frequency_bands, f_sampling, samples, sub_arrays):\n",
    "    # not really improved in time, since the filtering takes longer\n",
    "    # Create empty color_maps\n",
    "    color_maps_complete = np.zeros(len(frequency_bands), dtype=object)\n",
    "    for freq_ind in range(len(frequency_bands)):\n",
    "        color_map_new = np.zeros((len(y_listen),len(x_listen)))\n",
    "        color_maps_complete[freq_ind] = Color_map(color_map_new)\n",
    "\n",
    "    for x_ind in range(len(x_listen)):\n",
    "        print('\\n x_ind: '+str(x_ind+1))                # print stuff for user\n",
    "        x = x_listen[x_ind]                             # current x-coordinate\n",
    "        print('\\t y_ind:', end=' ')                     # print stuff for user\n",
    "        for y_ind in range(len(y_listen)):\n",
    "            print(str(y_ind+1), end=' ')                # print stuff for user\n",
    "            y = y_listen[y_ind]                         # current x-coordinate\n",
    "            z_0 = math.sqrt(r_scan**2 - x**2 - y**2)\n",
    "            theta = math.acos(z_0/r_scan)               # get theta from our x,y coordinates\n",
    "            phi = math.atan2(y,x)                       # get phi from our x,y coordinates   \n",
    "    \n",
    "            x_factor = math.sin(theta) * math.cos(phi)\n",
    "            y_factor = math.sin(theta) * math.sin(phi)\n",
    "            audio_out = np.zeros((samples,1))\n",
    "\n",
    "            for array in range(sub_arrays):\n",
    "                #print('array: '+str(array+1))               # print for user\n",
    "                r_prime = array_matrices[array].get_r_prime()\n",
    "                audio_signals = array_audio_signals[array].get_audio_signals()\n",
    "            \n",
    "                elements = config.rows*config.columns\n",
    "                #print('freq_ind: ', end=' ')\n",
    "                for freq_ind in range(len(filter_coefficients[:,0])):\n",
    "                    #print(str(freq_ind+1), end=' ')  # print for user\n",
    "                    b = filter_coefficients[freq_ind,:]     # filter coefficient for the current band\n",
    "                    frequency = frequency_bands[freq_ind]   # center frequency\n",
    "                    k = 2*math.pi*frequency/c               # the narrowband frequency\n",
    "                    ny = frequency/f_sampling               # normalized frequency\n",
    "                    weights = adaptive_weight_matrix[weight_index(frequency)-1,:]\n",
    "                    audio_temp = np.zeros((samples,1))\n",
    "                    mic_data = np.zeros((samples,1))\n",
    "                    #print('\\t mic_ind:', end=' ')           # print stuff for user\n",
    "                    for mic_ind in range(elements):\n",
    "                        #print(str(mic_ind+1), end=' ')      # print stuff for user\n",
    "                        if weights[mic_ind] == 1:\n",
    "                            audio_temp[:,0] = calibration_weights[freq_ind,mic_ind] * signal.lfilter(b, 1.0, audio_signals[:,mic_ind])\n",
    "                            phase_shift_value = -k*(r_prime[0,mic_ind] * x_factor + r_prime[1,mic_ind]*y_factor)\n",
    "\n",
    "                            #   Sum the individually shifted data from the atnenna elements as well as weight them with\n",
    "                            #   appropriate weight.\n",
    "                            mic_data += weights[mic_ind] * phase_shift(audio_temp,ny,phase_shift_value)\n",
    "                    \n",
    "                        # obtain relative power in the listening direction\n",
    "                        color = sum(abs(mic_data)**2)\n",
    "\n",
    "                        # relative power inte the direction [theta, phi] saved in matrix\n",
    "                        color_maps_complete[freq_ind].set_color(y_ind, x_ind, color)\n",
    "    return color_maps_complete"
   ]
  },
  {
   "cell_type": "code",
   "execution_count": 24,
   "metadata": {},
   "outputs": [],
   "source": [
    "# Initialization\n",
    "# f_sampling, t_start, t_end, away_distance are user defined variables\n",
    "if config.audio_signals == 'emulated':\n",
    "    f_sampling = config.f_sampling                      # sampling frequency in Hz\n",
    "    t_start = config.t_start                            # start time of simulation \n",
    "    t_end = config.t_end                                # end time of simulation\n",
    "    t_total = t_end - t_start                           # total simulation time\n",
    "    samples = math.floor(f_sampling*t_total)\n",
    "    t = np.linspace(t_start, t_end-1/f_sampling, samples) # time vector\n",
    "\n",
    "    away_distance = config.away_distance                # distance between the array and sources\n"
   ]
  },
  {
   "cell_type": "code",
   "execution_count": 25,
   "metadata": {},
   "outputs": [
    {
     "name": "stdout",
     "output_type": "stream",
     "text": [
      "Numer of active arrays: 1\n"
     ]
    },
    {
     "data": {
      "image/png": "[encoded data removed]",
      "text/plain": [
       "<Figure size 432x288 with 1 Axes>"
      ]
     },
     "metadata": {
      "needs_background": "light"
     },
     "output_type": "display_data"
    }
   ],
   "source": [
    "# set up arrays\n",
    "array_matrices = antenna_setup()\n",
    "sub_arrays = len(array_matrices)\n",
    "print('Numer of active arrays: '+ str(sub_arrays))"
   ]
  },
  {
   "cell_type": "code",
   "execution_count": 26,
   "metadata": {},
   "outputs": [
    {
     "name": "stdout",
     "output_type": "stream",
     "text": [
      "Creating data file:emul_4000Hz_theta=40_phi=20_samples=300_A1\n",
      "Number of samples generated (of 300.0):\n",
      "1\n",
      "100\n",
      "200\n",
      "300\n",
      "Audio signal for array 1 generated\n"
     ]
    }
   ],
   "source": [
    "# AUDIO SIGNALS\n",
    "if config.audio_signals == 'emulated':\n",
    "    filename = generate_filename()\n",
    "    #filename = 'emul_100Hz_theta=0_phi=45_samples=300'\n",
    "            # Create and place out sources\n",
    "        # source1 and source2 below can be generated in parallell\n",
    "    source1 = Audio_source(config.f_start1, config.f_end1, config.f_res1,\n",
    "                        config.theta_deg1, config.phi_deg1, config.away_distance, \n",
    "                        config.t_start1, config.t_end1)\n",
    "    source2 = Audio_source(config.f_start2, config.f_end2, config.f_res2,\n",
    "                        config.theta_deg2, config.phi_deg2, config.away_distance, \n",
    "                        config.t_start2, config.t_end2)\n",
    "    source_list = [source1, source2]\n",
    "    sources = np.array(source_list[:config.sources])\n",
    "    try:\n",
    "        # array_audio_signals = np.load(filename)\n",
    "        array_audio_signals = np.load('emulated_data/'+filename+'.npy', allow_pickle=True)\n",
    "        print(\"Loading from Memory: \" + filename)\n",
    "    except:\n",
    "        print(\"Creating data file:\"+filename)\n",
    "\n",
    "        \n",
    "        # GENERATE AUDIO SIGNAL\n",
    "        # will only be used to emulate data, this will not be used when the algoritm runs with real data\n",
    "        array_audio_signals = np.zeros((sub_arrays), dtype=object)\n",
    "        print('Number of samples generated (of '+str(f_sampling*t_total)+'):')\n",
    "        for array in range(sub_arrays):  # PARALLELL\n",
    "            # generate the audio signals on each array-element for each sub-array\n",
    "            temp_signal = generate_array_signals(array_matrices[array], sources, t)\n",
    "            array_audio_signals[array] = Audio_data(temp_signal)\n",
    "            print('Audio signal for array '+str(array+1)+' generated')\n",
    "\n",
    "        np.save('emulated_data/'+filename, array_audio_signals)\n",
    "\n",
    "elif config.audio_signals == 'recorded':\n",
    "    filename = config.filename\n",
    "    print('Loading recorded data: '+filename)\n",
    "    array_audio_signals = np.zeros((sub_arrays), dtype=object)\n",
    "    array_audio_signals[0], f_sampling = load_data_FPGA(filename)\n",
    "else:\n",
    "    array_audio_signals = 0"
   ]
  },
  {
   "cell_type": "code",
   "execution_count": 27,
   "metadata": {},
   "outputs": [],
   "source": [
    "#original_signal = array_audio_signals[0].get_audio_signals()[:,7]\n",
    "#scaled = original_signal/np.max(np.abs(original_signal))\n",
    "#play_sound(scaled, f_sampling)"
   ]
  },
  {
   "cell_type": "code",
   "execution_count": 28,
   "metadata": {},
   "outputs": [],
   "source": [
    "# BEAMFORMING values\n",
    "x_res = config.x_res                # resolution in x\n",
    "y_res = config.y_res                # resolution in y\n",
    "x_listen = np.linspace(-1,1,x_res)  # scanning window, x coordinates\n",
    "y_listen = np.linspace(-1,1,y_res)  # scanning window, y coordinates\n",
    "r_scan = math.sqrt(2)               # radius of our scanning window, r_scan² = x²+y²+z²"
   ]
  },
  {
   "cell_type": "code",
   "execution_count": 29,
   "metadata": {},
   "outputs": [],
   "source": [
    "# Filtering values\n",
    "f_bands_N = config.f_bands_N         # number of frequency bands\n",
    "bandwidth = [100, f_sampling/2-f_sampling/100]  # bandwidth of incoming audio signal\n",
    "frequency_bands = np.linspace(bandwidth[0],bandwidth[1],f_bands_N) # vector holding center frequencies of all frequency bands\n",
    "samples = len(array_audio_signals[0].get_audio_signals()[:,0])\n",
    "#filter_coefficients = np.zeros((f_bands_N, filter_order+1)) # might only be used for plots"
   ]
  },
  {
   "cell_type": "code",
   "execution_count": 30,
   "metadata": {},
   "outputs": [],
   "source": [
    "# load adaptive weights, calibration weights and filter coefficients\n",
    "adaptive_weight_matrix = adaptive_array_config_matrix(array_matrices[0])\n",
    "calibration_weights = load_calibration_weights(0,config.rows*config.columns, config.f_bands_N)\n",
    "filter_coefficients = calculate_filter_coefficients(f_sampling, frequency_bands)"
   ]
  },
  {
   "cell_type": "code",
   "execution_count": 31,
   "metadata": {},
   "outputs": [
    {
     "name": "stdout",
     "output_type": "stream",
     "text": [
      "Filtering of signals completed.\n"
     ]
    },
    {
     "data": {
      "image/png": "[encoded data removed]",
      "text/plain": [
       "<Figure size 432x288 with 1 Axes>"
      ]
     },
     "metadata": {
      "needs_background": "light"
     },
     "output_type": "display_data"
    }
   ],
   "source": [
    "# FILTERING\n",
    "audio_filtered_complete = filtering(array_audio_signals, sub_arrays, frequency_bands, f_sampling, array_matrices[0].get_elements())"
   ]
  },
  {
   "cell_type": "code",
   "execution_count": 32,
   "metadata": {},
   "outputs": [
    {
     "name": "stdout",
     "output_type": "stream",
     "text": [
      "\n",
      " x_ind: 1\n",
      "\t y_ind: 1 2 3 4 5 6 7 8 9 10 \n",
      " x_ind: 2\n",
      "\t y_ind: 1 2 3 4 5 6 7 8 9 10 \n",
      " x_ind: 3\n",
      "\t y_ind: 1 2 3 4 5 6 7 8 9 10 \n",
      " x_ind: 4\n",
      "\t y_ind: 1 2 3 4 5 6 7 8 9 10 \n",
      " x_ind: 5\n",
      "\t y_ind: 1 2 3 4 5 6 7 8 9 10 \n",
      " x_ind: 6\n",
      "\t y_ind: 1 2 3 4 5 6 7 8 9 10 \n",
      " x_ind: 7\n",
      "\t y_ind: 1 2 3 4 5 6 7 8 9 10 \n",
      " x_ind: 8\n",
      "\t y_ind: 1 2 3 4 5 6 7 8 9 10 \n",
      " x_ind: 9\n",
      "\t y_ind: 1 2 3 4 5 6 7 8 9 10 \n",
      " x_ind: 10\n",
      "\t y_ind: 1 2 3 4 5 6 7 8 9 10 "
     ]
    }
   ],
   "source": [
    "# start scanning after sources, at all different angles, \n",
    "intensity_maps = scanning(y_listen, x_listen, r_scan, frequency_bands, audio_filtered_complete, array_matrices, f_sampling, sub_arrays)\n",
    "#intensity_maps = scanning(array_audio_signals, array_matrices, x_listen, y_listen, r_scan, \\\n",
    "#    adaptive_weight_matrix, calibration_weights, filter_coefficients, frequency_bands, f_sampling, samples, sub_arrays)"
   ]
  },
  {
   "cell_type": "code",
   "execution_count": 33,
   "metadata": {},
   "outputs": [
    {
     "data": {
      "image/png": "[encoded data removed]",
      "text/plain": [
       "<Figure size 432x288 with 1 Axes>"
      ]
     },
     "metadata": {
      "needs_background": "light"
     },
     "output_type": "display_data"
    }
   ],
   "source": [
    "# Check where the source is actually located\n",
    "source1 = Audio_source(config.f_start1, config.f_end1, config.f_res1,\n",
    "                  config.theta_deg1, config.phi_deg1, config.away_distance, \n",
    "                  config.t_start1, config.t_end1)\n",
    "source2 = Audio_source(config.f_start2, config.f_end2, config.f_res2,\n",
    "                  config.theta_deg2, config.phi_deg2, config.away_distance, \n",
    "                  config.t_start2, config.t_end2)\n",
    "source_list = [source1, source2]\n",
    "sources = np.array(source_list[:config.sources])\n",
    "if config.audio_signals == 'emulated':\n",
    "   validation_check(y_listen, x_listen, sources, r_scan)"
   ]
  },
  {
   "cell_type": "code",
   "execution_count": 34,
   "metadata": {},
   "outputs": [
    {
     "data": {
      "image/png": "[encoded data removed]",
      "text/plain": [
       "<Figure size 432x288 with 1 Axes>"
      ]
     },
     "metadata": {
      "needs_background": "light"
     },
     "output_type": "display_data"
    }
   ],
   "source": [
    "# show the beamforming results\n",
    "total_intensity = show_beamforming_results(y_listen, x_listen, intensity_maps)"
   ]
  },
  {
   "cell_type": "code",
   "execution_count": 35,
   "metadata": {},
   "outputs": [],
   "source": [
    "def show_colormap(filename):\n",
    "    color_map = np.load('color_maps/'+filename+'.npy', allow_pickle=True)\n",
    "    plt.figure(4)\n",
    "    plt.imshow(color_map, extent= extents(x_listen) + extents(y_listen), origin='lower')\n",
    "    plt.suptitle('Beamforming results')\n",
    "    plt.title(filename)\n",
    "    plt.savefig('color_maps_jpg/'+filename+'.jpg')\n"
   ]
  },
  {
   "cell_type": "code",
   "execution_count": 36,
   "metadata": {},
   "outputs": [
    {
     "data": {
      "image/png": "[encoded data removed]",
      "text/plain": [
       "<Figure size 432x288 with 1 Axes>"
      ]
     },
     "metadata": {
      "needs_background": "light"
     },
     "output_type": "display_data"
    }
   ],
   "source": [
    "\n",
    "filename_colormap = filename +'_colormap'\n",
    "np.save('color_maps/'+filename_colormap, total_intensity)\n",
    "show_colormap(filename_colormap)"
   ]
  },
  {
   "cell_type": "code",
   "execution_count": 37,
   "metadata": {},
   "outputs": [],
   "source": [
    "#show_colormap('emul_8000Hz_theta=40_phi=20_samples=500_colormap')"
   ]
  },
  {
   "cell_type": "code",
   "execution_count": 38,
   "metadata": {},
   "outputs": [],
   "source": [
    "#audio = listening_improved(array_audio_signals, array_matrices, config.theta_listen, config.phi_listen, adaptive_weight_matrix, calibration_weight, filter_coefficients, frequency_bands, f_sampling, samples, sub_arrays)"
   ]
  },
  {
   "cell_type": "code",
   "execution_count": 39,
   "metadata": {},
   "outputs": [],
   "source": [
    "#scaled_audio = original_signal/np.max(np.abs(audio2))\n",
    "#play_sound(scaled_audio, f_sampling)"
   ]
  }
 ],
 "metadata": {
  "kernelspec": {
   "display_name": "Python 3.8.10 64-bit",
   "language": "python",
   "name": "python3"
  },
  "language_info": {
   "codemirror_mode": {
    "name": "ipython",
    "version": 3
   },
   "file_extension": ".py",
   "mimetype": "text/x-python",
   "name": "python",
   "nbconvert_exporter": "python",
   "pygments_lexer": "ipython3",
   "version": "3.8.10"
  },
  "orig_nbformat": 4,
  "vscode": {
   "interpreter": {
    "hash": "916dbcbb3f70747c44a77c7bcd40155683ae19c65e1c03b4aa3499c5328201f1"
   }
  }
 },
 "nbformat": 4,
 "nbformat_minor": 2
}
